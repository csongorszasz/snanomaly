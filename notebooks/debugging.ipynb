{
 "cells": [
  {
   "metadata": {
    "ExecuteTime": {
     "end_time": "2025-03-21T15:03:03.807883Z",
     "start_time": "2025-03-21T15:03:03.779438Z"
    }
   },
   "cell_type": "code",
   "source": [
    "from snanomaly.scripts.logprocessor import LogProcessor, FilterCriteria\n",
    "from snanomaly import dirs"
   ],
   "id": "866ae684ad4cc7ae",
   "outputs": [],
   "execution_count": 1
  },
  {
   "metadata": {
    "collapsed": true,
    "ExecuteTime": {
     "end_time": "2025-03-21T15:03:03.829858Z",
     "start_time": "2025-03-21T15:03:03.827275Z"
    }
   },
   "cell_type": "code",
   "source": "log_processor = LogProcessor(dirs.LOGS)",
   "id": "initial_id",
   "outputs": [],
   "execution_count": 2
  },
  {
   "metadata": {
    "ExecuteTime": {
     "end_time": "2025-03-21T15:03:03.896584Z",
     "start_time": "2025-03-21T15:03:03.893614Z"
    }
   },
   "cell_type": "code",
   "source": [
    "lines_with_magnitude = log_processor.process_logs(FilterCriteria(\"magnitude\", negate=False))\n",
    "lines_without_magnitude = log_processor.process_logs(FilterCriteria(\"magnitude\", negate=True))\n",
    "print(f\"Lines containing magnitude: {len(lines_with_magnitude)}\")\n",
    "print(f\"Lines not containing magnitude: {len(lines_without_magnitude)}\")"
   ],
   "id": "57d58d1994eb8c3b",
   "outputs": [
    {
     "name": "stdout",
     "output_type": "stream",
     "text": [
      "Lines containing magnitude: 1\n",
      "Lines not containing magnitude: 0\n"
     ]
    }
   ],
   "execution_count": 3
  },
  {
   "metadata": {
    "ExecuteTime": {
     "end_time": "2025-03-21T15:03:04.002136Z",
     "start_time": "2025-03-21T15:03:03.997117Z"
    }
   },
   "cell_type": "code",
   "source": "LogProcessor.lines_to_files(lines_without_magnitude, \"unknown_errors\")",
   "id": "ca9407e22ff98765",
   "outputs": [
    {
     "name": "stdout",
     "output_type": "stream",
     "text": [
      "2025-03-21T17:03:03.998833+0200 | WARNING | logprocessor:lines_to_files:75 - No lines to write.\n"
     ]
    }
   ],
   "execution_count": 4
  },
  {
   "metadata": {
    "ExecuteTime": {
     "end_time": "2025-03-21T15:03:04.048437Z",
     "start_time": "2025-03-21T15:03:04.045322Z"
    }
   },
   "cell_type": "code",
   "source": "LogProcessor.lines_to_files(lines_with_magnitude, \"missing_magnitude\")",
   "id": "682323ccdfc513c9",
   "outputs": [
    {
     "name": "stdout",
     "output_type": "stream",
     "text": [
      "2025-03-21T17:03:04.047128+0200 | INFO | logprocessor:lines_to_files:86 - See filtered logs at: `/home/chongy/stuff/workspace/snanomaly/logs/filtered/missing_magnitude`.\n"
     ]
    }
   ],
   "execution_count": 5
  }
 ],
 "metadata": {
  "kernelspec": {
   "display_name": "Python 3",
   "language": "python",
   "name": "python3"
  },
  "language_info": {
   "codemirror_mode": {
    "name": "ipython",
    "version": 2
   },
   "file_extension": ".py",
   "mimetype": "text/x-python",
   "name": "python",
   "nbconvert_exporter": "python",
   "pygments_lexer": "ipython2",
   "version": "2.7.6"
  }
 },
 "nbformat": 4,
 "nbformat_minor": 5
}
