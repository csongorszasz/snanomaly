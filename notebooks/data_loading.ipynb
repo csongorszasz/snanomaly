{
 "cells": [
  {
   "cell_type": "code",
   "id": "initial_id",
   "metadata": {
    "collapsed": true,
    "ExecuteTime": {
     "end_time": "2025-03-18T14:33:35.527259Z",
     "start_time": "2025-03-18T14:33:35.298681Z"
    }
   },
   "source": [
    "################################\n",
    "# Load the OSC2019Mini dataset #\n",
    "################################\n",
    "\n",
    "from snanomaly.models.dataset.osc2019_mini import OSC2019Mini\n",
    "\n",
    "dataset = OSC2019Mini()\n",
    "\n",
    "print(dataset.name)\n",
    "print(dataset.description)\n",
    "\n",
    "print(\"First object:\")\n",
    "print(dataset.objects[0])"
   ],
   "outputs": [
    {
     "name": "stdout",
     "output_type": "stream",
     "text": [
      "2025-03-18T16:33:35.385131+0200 | INFO | osc:_load_data:19 - Loading OSC dataset...\n",
      "2025-03-18T16:33:35.522452+0200 | ERROR | osc:_load_data:33 - 55. Error parsing file: `Swift J1112-82.json`.\n",
      "2025-03-18T16:33:35.525467+0200 | INFO | osc:_load_data:37 - Loaded 69 objects.\n",
      "OSC-2019 Mini\n",
      "The `Open Supernova Catalog` with data up to 2019. Contains a small subset of the OSC-2019 dataset (<100 objects). Objects were selected from various catalogues to ensure a diversity.\n",
      "First object:\n",
      "SNCandidate(name=CLJ0152-1357-cand3, alias=[CLJ0152-1357-cand3])\n"
     ]
    }
   ],
   "execution_count": 1
  },
  {
   "metadata": {
    "ExecuteTime": {
     "end_time": "2025-03-18T14:19:06.739961Z",
     "start_time": "2025-03-18T14:19:03.966476Z"
    }
   },
   "cell_type": "code",
   "source": [
    "############################\n",
    "# Load the OSC2019 dataset #\n",
    "############################\n",
    "\n",
    "from snanomaly.models.dataset.osc2019 import OSC2019\n",
    "\n",
    "dataset = OSC2019()\n",
    "\n",
    "print(dataset.name)\n",
    "print(dataset.description)\n",
    "\n",
    "print(\"First object:\")\n",
    "print(dataset.objects[0])"
   ],
   "id": "ebcc4110f43d27e",
   "outputs": [
    {
     "name": "stdout",
     "output_type": "stream",
     "text": [
      "2025-03-18T16:19:04.052422+0200 | INFO | osc:_load_data:18 - Loading OSC dataset...\n",
      "2025-03-18T16:19:04.155311+0200 | ERROR | osc:_load_data:32 - 64. Error parsing file: `G33.85+0.06.json`.\n",
      "2025-03-18T16:19:04.163424+0200 | ERROR | osc:_load_data:32 - 76. Error parsing file: `PS1-12bku.json`.\n",
      "2025-03-18T16:19:04.668651+0200 | ERROR | osc:_load_data:32 - 461. Error parsing file: `SN2004gq.json`.\n",
      "2025-03-18T16:19:04.829745+0200 | ERROR | osc:_load_data:32 - 470. Error parsing file: `SN1998S.json`.\n",
      "2025-03-18T16:19:05.146299+0200 | ERROR | osc:_load_data:32 - 814. Error parsing file: `D1-9.json`.\n",
      "2025-03-18T16:19:05.181130+0200 | ERROR | osc:_load_data:32 - 846. Error parsing file: `G38.62-0.24.json`.\n",
      "2025-03-18T16:19:05.228790+0200 | ERROR | osc:_load_data:32 - 874. Error parsing file: `SN2005gj.json`.\n",
      "2025-03-18T16:19:05.246393+0200 | ERROR | osc:_load_data:32 - 888. Error parsing file: `RX J1242-11A.json`.\n",
      "2025-03-18T16:19:05.294648+0200 | ERROR | osc:_load_data:32 - 897. Error parsing file: `SN2012Z.json`.\n",
      "2025-03-18T16:19:05.556275+0200 | ERROR | osc:_load_data:32 - 1133. Error parsing file: `G27.47+0.25.json`.\n",
      "2025-03-18T16:19:05.627836+0200 | ERROR | osc:_load_data:32 - 1208. Error parsing file: `SN1986O.json`.\n",
      "2025-03-18T16:19:06.521527+0200 | ERROR | osc:_load_data:32 - 1699. Error parsing file: `SN2005E.json`.\n"
     ]
    },
    {
     "ename": "KeyboardInterrupt",
     "evalue": "",
     "output_type": "error",
     "traceback": [
      "\u001B[31m---------------------------------------------------------------------------\u001B[39m",
      "\u001B[31mKeyboardInterrupt\u001B[39m                         Traceback (most recent call last)",
      "\u001B[36mCell\u001B[39m\u001B[36m \u001B[39m\u001B[32mIn[1]\u001B[39m\u001B[32m, line 7\u001B[39m\n\u001B[32m      1\u001B[39m \u001B[38;5;66;03m############################\u001B[39;00m\n\u001B[32m      2\u001B[39m \u001B[38;5;66;03m# Load the OSC2019 dataset #\u001B[39;00m\n\u001B[32m      3\u001B[39m \u001B[38;5;66;03m############################\u001B[39;00m\n\u001B[32m      5\u001B[39m \u001B[38;5;28;01mfrom\u001B[39;00m\u001B[38;5;250m \u001B[39m\u001B[34;01msnanomaly\u001B[39;00m\u001B[34;01m.\u001B[39;00m\u001B[34;01mmodels\u001B[39;00m\u001B[34;01m.\u001B[39;00m\u001B[34;01mdataset\u001B[39;00m\u001B[34;01m.\u001B[39;00m\u001B[34;01mosc2019\u001B[39;00m\u001B[38;5;250m \u001B[39m\u001B[38;5;28;01mimport\u001B[39;00m OSC2019\n\u001B[32m----> \u001B[39m\u001B[32m7\u001B[39m dataset = \u001B[43mOSC2019\u001B[49m\u001B[43m(\u001B[49m\u001B[43m)\u001B[49m\n\u001B[32m      9\u001B[39m \u001B[38;5;28mprint\u001B[39m(dataset.name)\n\u001B[32m     10\u001B[39m \u001B[38;5;28mprint\u001B[39m(dataset.description)\n",
      "\u001B[36mFile \u001B[39m\u001B[32m<attrs generated methods snanomaly.models.dataset.osc2019.OSC2019>:30\u001B[39m, in \u001B[36m__init__\u001B[39m\u001B[34m(self, path)\u001B[39m\n\u001B[32m     28\u001B[39m \u001B[38;5;28mself\u001B[39m.description = attr_dict[\u001B[33m'\u001B[39m\u001B[33mdescription\u001B[39m\u001B[33m'\u001B[39m].default\n\u001B[32m     29\u001B[39m \u001B[38;5;28mself\u001B[39m.objects = __attr_factory_objects()\n\u001B[32m---> \u001B[39m\u001B[32m30\u001B[39m \u001B[38;5;28;43mself\u001B[39;49m\u001B[43m.\u001B[49m\u001B[43m__attrs_post_init__\u001B[49m\u001B[43m(\u001B[49m\u001B[43m)\u001B[49m\n",
      "\u001B[36mFile \u001B[39m\u001B[32m~/stuff/workspace/snanomaly/src/snanomaly/models/dataset/osc2019.py:17\u001B[39m, in \u001B[36mOSC2019.__attrs_post_init__\u001B[39m\u001B[34m(self)\u001B[39m\n\u001B[32m     15\u001B[39m \u001B[38;5;28mself\u001B[39m.name = \u001B[33m\"\u001B[39m\u001B[33mOSC-2019\u001B[39m\u001B[33m\"\u001B[39m\n\u001B[32m     16\u001B[39m \u001B[38;5;28mself\u001B[39m.description = \u001B[33m\"\u001B[39m\u001B[33mThe `Open Supernova Catalog` with data up to 2019.\u001B[39m\u001B[33m\"\u001B[39m\n\u001B[32m---> \u001B[39m\u001B[32m17\u001B[39m \u001B[38;5;28;43msuper\u001B[39;49m\u001B[43m(\u001B[49m\u001B[43m)\u001B[49m\u001B[43m.\u001B[49m\u001B[43m__attrs_post_init__\u001B[49m\u001B[43m(\u001B[49m\u001B[43m)\u001B[49m\n",
      "\u001B[36mFile \u001B[39m\u001B[32m~/stuff/workspace/snanomaly/src/snanomaly/models/dataset/dataset.py:23\u001B[39m, in \u001B[36mDataset.__attrs_post_init__\u001B[39m\u001B[34m(self)\u001B[39m\n\u001B[32m     22\u001B[39m \u001B[38;5;28;01mdef\u001B[39;00m\u001B[38;5;250m \u001B[39m\u001B[34m__attrs_post_init__\u001B[39m(\u001B[38;5;28mself\u001B[39m):\n\u001B[32m---> \u001B[39m\u001B[32m23\u001B[39m     \u001B[38;5;28;43mself\u001B[39;49m\u001B[43m.\u001B[49m\u001B[43m_load_data\u001B[49m\u001B[43m(\u001B[49m\u001B[43m)\u001B[49m\n",
      "\u001B[36mFile \u001B[39m\u001B[32m~/stuff/workspace/snanomaly/src/snanomaly/models/dataset/osc.py:25\u001B[39m, in \u001B[36mOSC._load_data\u001B[39m\u001B[34m(self)\u001B[39m\n\u001B[32m     23\u001B[39m \u001B[38;5;28;01mwith\u001B[39;00m file.open() \u001B[38;5;28;01mas\u001B[39;00m f:\n\u001B[32m     24\u001B[39m     \u001B[38;5;28;01mtry\u001B[39;00m:\n\u001B[32m---> \u001B[39m\u001B[32m25\u001B[39m         data = \u001B[43mjson\u001B[49m\u001B[43m.\u001B[49m\u001B[43mload\u001B[49m\u001B[43m(\u001B[49m\u001B[43mf\u001B[49m\u001B[43m)\u001B[49m.get(file.stem)\n\u001B[32m     26\u001B[39m         \u001B[38;5;28;01mif\u001B[39;00m data \u001B[38;5;129;01mis\u001B[39;00m \u001B[38;5;28;01mNone\u001B[39;00m:\n\u001B[32m     27\u001B[39m             logger.warning(\u001B[33mf\u001B[39m\u001B[33m\"\u001B[39m\u001B[33mWarning: Invalid format for `\u001B[39m\u001B[38;5;132;01m{\u001B[39;00mfile.name\u001B[38;5;132;01m}\u001B[39;00m\u001B[33m`. Skipping.\u001B[39m\u001B[33m\"\u001B[39m)\n",
      "\u001B[36mFile \u001B[39m\u001B[32m~/.pyenv/versions/3.12.8/lib/python3.12/json/__init__.py:293\u001B[39m, in \u001B[36mload\u001B[39m\u001B[34m(fp, cls, object_hook, parse_float, parse_int, parse_constant, object_pairs_hook, **kw)\u001B[39m\n\u001B[32m    274\u001B[39m \u001B[38;5;28;01mdef\u001B[39;00m\u001B[38;5;250m \u001B[39m\u001B[34mload\u001B[39m(fp, *, \u001B[38;5;28mcls\u001B[39m=\u001B[38;5;28;01mNone\u001B[39;00m, object_hook=\u001B[38;5;28;01mNone\u001B[39;00m, parse_float=\u001B[38;5;28;01mNone\u001B[39;00m,\n\u001B[32m    275\u001B[39m         parse_int=\u001B[38;5;28;01mNone\u001B[39;00m, parse_constant=\u001B[38;5;28;01mNone\u001B[39;00m, object_pairs_hook=\u001B[38;5;28;01mNone\u001B[39;00m, **kw):\n\u001B[32m    276\u001B[39m \u001B[38;5;250m    \u001B[39m\u001B[33;03m\"\"\"Deserialize ``fp`` (a ``.read()``-supporting file-like object containing\u001B[39;00m\n\u001B[32m    277\u001B[39m \u001B[33;03m    a JSON document) to a Python object.\u001B[39;00m\n\u001B[32m    278\u001B[39m \n\u001B[32m   (...)\u001B[39m\u001B[32m    291\u001B[39m \u001B[33;03m    kwarg; otherwise ``JSONDecoder`` is used.\u001B[39;00m\n\u001B[32m    292\u001B[39m \u001B[33;03m    \"\"\"\u001B[39;00m\n\u001B[32m--> \u001B[39m\u001B[32m293\u001B[39m     \u001B[38;5;28;01mreturn\u001B[39;00m \u001B[43mloads\u001B[49m\u001B[43m(\u001B[49m\u001B[43mfp\u001B[49m\u001B[43m.\u001B[49m\u001B[43mread\u001B[49m\u001B[43m(\u001B[49m\u001B[43m)\u001B[49m\u001B[43m,\u001B[49m\n\u001B[32m    294\u001B[39m \u001B[43m        \u001B[49m\u001B[38;5;28;43mcls\u001B[39;49m\u001B[43m=\u001B[49m\u001B[38;5;28;43mcls\u001B[39;49m\u001B[43m,\u001B[49m\u001B[43m \u001B[49m\u001B[43mobject_hook\u001B[49m\u001B[43m=\u001B[49m\u001B[43mobject_hook\u001B[49m\u001B[43m,\u001B[49m\n\u001B[32m    295\u001B[39m \u001B[43m        \u001B[49m\u001B[43mparse_float\u001B[49m\u001B[43m=\u001B[49m\u001B[43mparse_float\u001B[49m\u001B[43m,\u001B[49m\u001B[43m \u001B[49m\u001B[43mparse_int\u001B[49m\u001B[43m=\u001B[49m\u001B[43mparse_int\u001B[49m\u001B[43m,\u001B[49m\n\u001B[32m    296\u001B[39m \u001B[43m        \u001B[49m\u001B[43mparse_constant\u001B[49m\u001B[43m=\u001B[49m\u001B[43mparse_constant\u001B[49m\u001B[43m,\u001B[49m\u001B[43m \u001B[49m\u001B[43mobject_pairs_hook\u001B[49m\u001B[43m=\u001B[49m\u001B[43mobject_pairs_hook\u001B[49m\u001B[43m,\u001B[49m\u001B[43m \u001B[49m\u001B[43m*\u001B[49m\u001B[43m*\u001B[49m\u001B[43mkw\u001B[49m\u001B[43m)\u001B[49m\n",
      "\u001B[36mFile \u001B[39m\u001B[32m~/.pyenv/versions/3.12.8/lib/python3.12/json/__init__.py:346\u001B[39m, in \u001B[36mloads\u001B[39m\u001B[34m(s, cls, object_hook, parse_float, parse_int, parse_constant, object_pairs_hook, **kw)\u001B[39m\n\u001B[32m    341\u001B[39m     s = s.decode(detect_encoding(s), \u001B[33m'\u001B[39m\u001B[33msurrogatepass\u001B[39m\u001B[33m'\u001B[39m)\n\u001B[32m    343\u001B[39m \u001B[38;5;28;01mif\u001B[39;00m (\u001B[38;5;28mcls\u001B[39m \u001B[38;5;129;01mis\u001B[39;00m \u001B[38;5;28;01mNone\u001B[39;00m \u001B[38;5;129;01mand\u001B[39;00m object_hook \u001B[38;5;129;01mis\u001B[39;00m \u001B[38;5;28;01mNone\u001B[39;00m \u001B[38;5;129;01mand\u001B[39;00m\n\u001B[32m    344\u001B[39m         parse_int \u001B[38;5;129;01mis\u001B[39;00m \u001B[38;5;28;01mNone\u001B[39;00m \u001B[38;5;129;01mand\u001B[39;00m parse_float \u001B[38;5;129;01mis\u001B[39;00m \u001B[38;5;28;01mNone\u001B[39;00m \u001B[38;5;129;01mand\u001B[39;00m\n\u001B[32m    345\u001B[39m         parse_constant \u001B[38;5;129;01mis\u001B[39;00m \u001B[38;5;28;01mNone\u001B[39;00m \u001B[38;5;129;01mand\u001B[39;00m object_pairs_hook \u001B[38;5;129;01mis\u001B[39;00m \u001B[38;5;28;01mNone\u001B[39;00m \u001B[38;5;129;01mand\u001B[39;00m \u001B[38;5;129;01mnot\u001B[39;00m kw):\n\u001B[32m--> \u001B[39m\u001B[32m346\u001B[39m     \u001B[38;5;28;01mreturn\u001B[39;00m \u001B[43m_default_decoder\u001B[49m\u001B[43m.\u001B[49m\u001B[43mdecode\u001B[49m\u001B[43m(\u001B[49m\u001B[43ms\u001B[49m\u001B[43m)\u001B[49m\n\u001B[32m    347\u001B[39m \u001B[38;5;28;01mif\u001B[39;00m \u001B[38;5;28mcls\u001B[39m \u001B[38;5;129;01mis\u001B[39;00m \u001B[38;5;28;01mNone\u001B[39;00m:\n\u001B[32m    348\u001B[39m     \u001B[38;5;28mcls\u001B[39m = JSONDecoder\n",
      "\u001B[36mFile \u001B[39m\u001B[32m~/.pyenv/versions/3.12.8/lib/python3.12/json/decoder.py:338\u001B[39m, in \u001B[36mJSONDecoder.decode\u001B[39m\u001B[34m(self, s, _w)\u001B[39m\n\u001B[32m    333\u001B[39m \u001B[38;5;28;01mdef\u001B[39;00m\u001B[38;5;250m \u001B[39m\u001B[34mdecode\u001B[39m(\u001B[38;5;28mself\u001B[39m, s, _w=WHITESPACE.match):\n\u001B[32m    334\u001B[39m \u001B[38;5;250m    \u001B[39m\u001B[33;03m\"\"\"Return the Python representation of ``s`` (a ``str`` instance\u001B[39;00m\n\u001B[32m    335\u001B[39m \u001B[33;03m    containing a JSON document).\u001B[39;00m\n\u001B[32m    336\u001B[39m \n\u001B[32m    337\u001B[39m \u001B[33;03m    \"\"\"\u001B[39;00m\n\u001B[32m--> \u001B[39m\u001B[32m338\u001B[39m     obj, end = \u001B[38;5;28;43mself\u001B[39;49m\u001B[43m.\u001B[49m\u001B[43mraw_decode\u001B[49m\u001B[43m(\u001B[49m\u001B[43ms\u001B[49m\u001B[43m,\u001B[49m\u001B[43m \u001B[49m\u001B[43midx\u001B[49m\u001B[43m=\u001B[49m\u001B[43m_w\u001B[49m\u001B[43m(\u001B[49m\u001B[43ms\u001B[49m\u001B[43m,\u001B[49m\u001B[43m \u001B[49m\u001B[32;43m0\u001B[39;49m\u001B[43m)\u001B[49m\u001B[43m.\u001B[49m\u001B[43mend\u001B[49m\u001B[43m(\u001B[49m\u001B[43m)\u001B[49m\u001B[43m)\u001B[49m\n\u001B[32m    339\u001B[39m     end = _w(s, end).end()\n\u001B[32m    340\u001B[39m     \u001B[38;5;28;01mif\u001B[39;00m end != \u001B[38;5;28mlen\u001B[39m(s):\n",
      "\u001B[36mFile \u001B[39m\u001B[32m~/.pyenv/versions/3.12.8/lib/python3.12/json/decoder.py:354\u001B[39m, in \u001B[36mJSONDecoder.raw_decode\u001B[39m\u001B[34m(self, s, idx)\u001B[39m\n\u001B[32m    345\u001B[39m \u001B[38;5;250m\u001B[39m\u001B[33;03m\"\"\"Decode a JSON document from ``s`` (a ``str`` beginning with\u001B[39;00m\n\u001B[32m    346\u001B[39m \u001B[33;03ma JSON document) and return a 2-tuple of the Python\u001B[39;00m\n\u001B[32m    347\u001B[39m \u001B[33;03mrepresentation and the index in ``s`` where the document ended.\u001B[39;00m\n\u001B[32m   (...)\u001B[39m\u001B[32m    351\u001B[39m \n\u001B[32m    352\u001B[39m \u001B[33;03m\"\"\"\u001B[39;00m\n\u001B[32m    353\u001B[39m \u001B[38;5;28;01mtry\u001B[39;00m:\n\u001B[32m--> \u001B[39m\u001B[32m354\u001B[39m     obj, end = \u001B[38;5;28;43mself\u001B[39;49m\u001B[43m.\u001B[49m\u001B[43mscan_once\u001B[49m\u001B[43m(\u001B[49m\u001B[43ms\u001B[49m\u001B[43m,\u001B[49m\u001B[43m \u001B[49m\u001B[43midx\u001B[49m\u001B[43m)\u001B[49m\n\u001B[32m    355\u001B[39m \u001B[38;5;28;01mexcept\u001B[39;00m \u001B[38;5;167;01mStopIteration\u001B[39;00m \u001B[38;5;28;01mas\u001B[39;00m err:\n\u001B[32m    356\u001B[39m     \u001B[38;5;28;01mraise\u001B[39;00m JSONDecodeError(\u001B[33m\"\u001B[39m\u001B[33mExpecting value\u001B[39m\u001B[33m\"\u001B[39m, s, err.value) \u001B[38;5;28;01mfrom\u001B[39;00m\u001B[38;5;250m \u001B[39m\u001B[38;5;28;01mNone\u001B[39;00m\n",
      "\u001B[31mKeyboardInterrupt\u001B[39m: "
     ]
    }
   ],
   "execution_count": 1
  }
 ],
 "metadata": {
  "kernelspec": {
   "display_name": "Python 3",
   "language": "python",
   "name": "python3"
  },
  "language_info": {
   "codemirror_mode": {
    "name": "ipython",
    "version": 2
   },
   "file_extension": ".py",
   "mimetype": "text/x-python",
   "name": "python",
   "nbconvert_exporter": "python",
   "pygments_lexer": "ipython2",
   "version": "2.7.6"
  }
 },
 "nbformat": 4,
 "nbformat_minor": 5
}
