{
 "cells": [
  {
   "cell_type": "code",
   "id": "initial_id",
   "metadata": {
    "collapsed": true,
    "ExecuteTime": {
     "end_time": "2025-03-21T15:02:06.034851Z",
     "start_time": "2025-03-21T15:02:05.796693Z"
    }
   },
   "source": [
    "################################\n",
    "# Load the OSC2019Mini dataset #\n",
    "################################\n",
    "\n",
    "from snanomaly.models.dataset.osc2019_mini import OSC2019Mini\n",
    "\n",
    "dataset = OSC2019Mini()\n",
    "\n",
    "print(dataset)\n",
    "\n",
    "print(\"First object:\")\n",
    "print(dataset.objects[0])"
   ],
   "outputs": [
    {
     "name": "stdout",
     "output_type": "stream",
     "text": [
      "2025-03-21T17:02:05.887690+0200 | INFO | osc:_load_data:20 - Loading OSC dataset...\n"
     ]
    },
    {
     "name": "stderr",
     "output_type": "stream",
     "text": [
      "100%|██████████| 70/70 [00:00<00:00, 490.63it/s]"
     ]
    },
    {
     "name": "stdout",
     "output_type": "stream",
     "text": [
      "2025-03-21T17:02:06.033106+0200 | INFO | osc:_load_data:41 - 0 object(s) were omitted. Successfully loaded 70/70.\n",
      "##############################\n",
      "Dataset: OSC-2019 Mini\n",
      "Description: The `Open Supernova Catalog` with data up to 2019. Contains a small subset of the OSC-2019 dataset (<100 objects). Objects were selected from various catalogues to ensure diversity.\n",
      "Size: 70 objects\n",
      "Path: /home/chongy/stuff/workspace/snanomaly/datasets/osc2019_mini\n",
      "##############################\n",
      "First object:\n",
      "SNCandidate(name=CLJ0152-1357-cand3, alias=[CLJ0152-1357-cand3])\n"
     ]
    },
    {
     "name": "stderr",
     "output_type": "stream",
     "text": [
      "\n"
     ]
    }
   ],
   "execution_count": 1
  },
  {
   "metadata": {
    "ExecuteTime": {
     "end_time": "2025-03-21T14:33:05.260053Z",
     "start_time": "2025-03-21T14:31:58.784304Z"
    }
   },
   "cell_type": "code",
   "source": [
    "############################\n",
    "# Load the OSC2019 dataset #\n",
    "############################\n",
    "\n",
    "from snanomaly.models.dataset.osc2019 import OSC2019\n",
    "\n",
    "dataset = OSC2019()\n",
    "\n",
    "print(dataset)\n",
    "\n",
    "print(\"First object:\")\n",
    "print(dataset.objects[0])"
   ],
   "id": "ebcc4110f43d27e",
   "outputs": [
    {
     "name": "stdout",
     "output_type": "stream",
     "text": [
      "2025-03-21T16:31:58.909747+0200 | INFO | osc:_load_data:20 - Loading OSC dataset...\n"
     ]
    },
    {
     "name": "stderr",
     "output_type": "stream",
     "text": [
      "100%|██████████| 45161/45161 [01:06<00:00, 680.73it/s] "
     ]
    },
    {
     "name": "stdout",
     "output_type": "stream",
     "text": [
      "2025-03-21T16:33:05.256458+0200 | INFO | osc:_load_data:41 - 0 object(s) were omitted. Successfully loaded 45161/45161.\n",
      "##############################\n",
      "Dataset: OSC-2019\n",
      "Description: The `Open Supernova Catalog` with data up to 2019.\n",
      "Size: 45161 objects\n",
      "Path: /home/chongy/stuff/workspace/snanomaly/datasets/osc2019\n",
      "##############################\n",
      "First object:\n",
      "SNCandidate(name=PS15cez, alias=[PS15cez])\n"
     ]
    },
    {
     "name": "stderr",
     "output_type": "stream",
     "text": [
      "\n"
     ]
    }
   ],
   "execution_count": 1
  }
 ],
 "metadata": {
  "kernelspec": {
   "display_name": "Python 3",
   "language": "python",
   "name": "python3"
  },
  "language_info": {
   "codemirror_mode": {
    "name": "ipython",
    "version": 2
   },
   "file_extension": ".py",
   "mimetype": "text/x-python",
   "name": "python",
   "nbconvert_exporter": "python",
   "pygments_lexer": "ipython2",
   "version": "2.7.6"
  }
 },
 "nbformat": 4,
 "nbformat_minor": 5
}
