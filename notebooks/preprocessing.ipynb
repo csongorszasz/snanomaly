{
 "cells": [
  {
   "metadata": {
    "ExecuteTime": {
     "end_time": "2025-03-26T20:27:48.618629Z",
     "start_time": "2025-03-26T20:27:48.228729Z"
    }
   },
   "cell_type": "code",
   "source": [
    "################################\n",
    "# Load the OSC2019Mini dataset #\n",
    "################################\n",
    "\n",
    "from snanomaly.dataset.osc2019_mini import OSC2019Mini\n",
    "\n",
    "dataset = OSC2019Mini()\n",
    "\n",
    "print(dataset)\n",
    "\n",
    "print(\"First object:\")\n",
    "print(dataset.objects[0])"
   ],
   "id": "16cd8efcce2f3f64",
   "outputs": [
    {
     "name": "stdout",
     "output_type": "stream",
     "text": [
      "2025-03-26T22:27:48.413867+0200 | INFO | osc:_load_data:20 - Loading OSC dataset...\n"
     ]
    },
    {
     "name": "stderr",
     "output_type": "stream",
     "text": [
      "100%|██████████| 71/71 [00:00<00:00, 355.69it/s]"
     ]
    },
    {
     "name": "stdout",
     "output_type": "stream",
     "text": [
      "2025-03-26T22:27:48.617017+0200 | INFO | osc:_load_data:41 - 0 object(s) were omitted. Successfully loaded 71/71.\n",
      "##############################\n",
      "Dataset: OSC-2019 Mini\n",
      "Description: The `Open Supernova Catalog` with data up to 2019. Contains a small subset of the OSC-2019 dataset (<100 objects). Objects were selected from various catalogues to ensure diversity.\n",
      "Size: 71 objects\n",
      "Path: /home/chongy/stuff/workspace/snanomaly/datasets/osc2019_mini\n",
      "##############################\n",
      "First object:\n",
      "SNCandidate(name=SN2005M, alias=[SN2005M])\n"
     ]
    },
    {
     "name": "stderr",
     "output_type": "stream",
     "text": [
      "\n"
     ]
    }
   ],
   "execution_count": 1
  },
  {
   "metadata": {
    "ExecuteTime": {
     "end_time": "2025-03-26T20:27:48.625958Z",
     "start_time": "2025-03-26T20:27:48.623631Z"
    }
   },
   "cell_type": "code",
   "source": [
    "sn = list(filter(lambda x: x.name == \"SN2005M\", dataset.objects))[0]\n",
    "print(sn)"
   ],
   "id": "9b4ceefa27263bed",
   "outputs": [
    {
     "name": "stdout",
     "output_type": "stream",
     "text": [
      "SNCandidate(name=SN2005M, alias=[SN2005M])\n"
     ]
    }
   ],
   "execution_count": 2
  },
  {
   "metadata": {
    "ExecuteTime": {
     "end_time": "2025-03-26T20:27:48.703103Z",
     "start_time": "2025-03-26T20:27:48.695907Z"
    }
   },
   "cell_type": "code",
   "source": [
    "### Data cleaning ###\n",
    "\n",
    "from snanomaly.preprocessing.cleaning.checks.photometry import MinimumObservationsPerBand\n",
    "from snanomaly.models.sncandidate.sncandidate import SNCandidate\n",
    "from snanomaly.preprocessing.cleaning.validation_pipeline import ValidationPipeline\n",
    "\n",
    "# Create a pipeline with checks\n",
    "pipeline = ValidationPipeline(\n",
    "    checks=[MinimumObservationsPerBand(3)],\n",
    "    fail_fast=True\n",
    ")\n",
    "\n",
    "def validate_sns(objects: list[SNCandidate]) -> None:\n",
    "    \"\"\"\n",
    "    Validate a list of SNCandidates and return the results.\n",
    "    \"\"\"\n",
    "    cnt_invalid = 0\n",
    "    for sn in objects:\n",
    "        results = pipeline.validate(sn)\n",
    "        error_msgs = []\n",
    "        for r in results:\n",
    "            if not r.is_valid:\n",
    "                error_msgs.append(f\"Check failed: [{r.check_name}] {r.message}\")\n",
    "        if error_msgs:\n",
    "            print(f\"### {sn.name} ###\")\n",
    "            print(\"\\n\".join(error_msgs))\n",
    "            cnt_invalid += 1\n",
    "    print(f\"Valid objects: {len(objects) - cnt_invalid} / {len(objects)}\")"
   ],
   "id": "6e2fef0ee6f74de4",
   "outputs": [],
   "execution_count": 3
  },
  {
   "metadata": {
    "ExecuteTime": {
     "end_time": "2025-03-26T20:27:48.756053Z",
     "start_time": "2025-03-26T20:27:48.751214Z"
    }
   },
   "cell_type": "code",
   "source": "validate_sns([sn])",
   "id": "9f7f9790ec6dea3f",
   "outputs": [
    {
     "name": "stdout",
     "output_type": "stream",
     "text": [
      "Valid objects: 1 / 1\n"
     ]
    }
   ],
   "execution_count": 4
  },
  {
   "metadata": {
    "ExecuteTime": {
     "end_time": "2025-03-26T20:27:48.813142Z",
     "start_time": "2025-03-26T20:27:48.809034Z"
    }
   },
   "cell_type": "code",
   "source": [
    "for band in sn.photometry.bands.get_bands():\n",
    "    print(f\"{band.name}: {band.nr_observations}\")"
   ],
   "id": "7560c8fc49a7b292",
   "outputs": [
    {
     "name": "stdout",
     "output_type": "stream",
     "text": [
      "B: 78\n",
      "R: 20\n",
      "I: 20\n",
      "g: 56\n",
      "r: 56\n",
      "i: 56\n",
      "g_pr: 0\n",
      "r_pr: 0\n",
      "i_pr: 0\n"
     ]
    }
   ],
   "execution_count": 5
  },
  {
   "metadata": {
    "ExecuteTime": {
     "end_time": "2025-03-26T20:28:03.919103Z",
     "start_time": "2025-03-26T20:28:03.909209Z"
    }
   },
   "cell_type": "code",
   "source": [
    "### Binning ###\n",
    "\n",
    "from snanomaly.preprocessing.binning import *\n",
    "\n",
    "for band in sn.photometry.bands.get_bands():\n",
    "    print(f\"### {band.name}: {band.nr_observations} ###\")\n",
    "    if band.nr_observations == 0:\n",
    "        continue\n",
    "    b = Binning(band=band, bin_width=3)\n",
    "    print(\"Bin width:\", b.bin_width)\n",
    "    print(\"Bins:\", b.bins[:5])\n",
    "\n",
    "    binned = b()\n",
    "    print(\"Binned:\", binned)"
   ],
   "id": "775ec518b2571d0c",
   "outputs": [
    {
     "name": "stdout",
     "output_type": "stream",
     "text": [
      "### B: 78 ###\n",
      "Bin width: 3\n",
      "Bins: [53388. 53391. 53397. 53400. 53403.]\n",
      "Binned: Band(_name='B', time=array([53389.5, 53392.5, 53398.5, 53401.5, 53404.5, 53407.5, 53410.5,\n",
      "       53413.5, 53416.5, 53419.5, 53422.5, 53425.5, 53428.5, 53431.5,\n",
      "       53434.5, 53437.5, 53440.5, 53443.5, 53446.5, 53452.5, 53455.5,\n",
      "       53458.5, 53461.5, 53464.5, 53467.5, 53473.5, 53476.5, 53479.5,\n",
      "       53497.5]), e_time=array(1.5), flux=array([8.39459987e-08, 1.22073986e-07, 2.85464129e-07, 3.69823226e-07,\n",
      "       3.98929606e-07, 3.84359961e-07, 3.49055281e-07, 3.07410365e-07,\n",
      "       2.54916174e-07, 1.99298852e-07, 1.54530037e-07, 1.12085290e-07,\n",
      "       7.96373282e-08, 7.00712523e-08, 5.38021957e-08, 4.53729219e-08,\n",
      "       3.82648487e-08, 3.46738475e-08, 3.02502763e-08, 2.33776041e-08,\n",
      "       2.27681878e-08, 1.85895827e-08, 2.17808034e-08, 1.93093556e-08,\n",
      "       1.40446149e-08, 1.80385650e-08, 1.74100493e-08, 1.61195527e-08,\n",
      "       6.02559586e-09]), e_flux=array([nan, nan, nan, nan, nan, nan, nan, nan, nan, nan, nan, nan, nan,\n",
      "       nan, nan, nan, nan, nan, nan, nan, nan, nan, nan, nan, nan, nan,\n",
      "       nan, nan, nan]), upperlimit=array([False, False, False, False, False, False, False, False, False,\n",
      "       False, False, False, False, False, False, False, False, False,\n",
      "       False, False, False, False, False, False, False, False, False,\n",
      "       False, False, False, False, False, False, False, False, False,\n",
      "       False, False, False, False, False, False, False, False, False,\n",
      "       False, False, False, False, False, False, False, False, False,\n",
      "       False, False, False, False, False, False, False, False, False,\n",
      "       False, False, False, False, False, False, False, False, False,\n",
      "       False, False, False, False, False, False]))\n",
      "### R: 20 ###\n",
      "Bin width: 3\n",
      "Bins: [53388. 53391. 53400. 53403. 53409.]\n",
      "Binned: Band(_name='R', time=array([53389.5, 53392.5, 53401.5, 53404.5, 53410.5, 53431.5, 53434.5,\n",
      "       53437.5, 53440.5, 53443.5, 53455.5, 53461.5, 53464.5, 53473.5]), e_time=array(1.5), flux=array([7.34513868e-08, 1.21404648e-07, 3.75670154e-07, 4.04189937e-07,\n",
      "       3.98107171e-07, 1.91601983e-07, 1.81802562e-07, 1.69511825e-07,\n",
      "       1.46419864e-07, 1.29634248e-07, 7.76247117e-08, 6.73596776e-08,\n",
      "       5.96485650e-08, 4.87079666e-08]), e_flux=array([nan, nan, nan, nan, nan, nan, nan, nan, nan, nan, nan, nan, nan,\n",
      "       nan]), upperlimit=array([False, False, False, False, False, False, False, False, False,\n",
      "       False, False, False, False, False, False, False, False, False,\n",
      "       False, False]))\n",
      "### I: 20 ###\n",
      "Bin width: 3\n",
      "Bins: [53388. 53391. 53400. 53403. 53409.]\n",
      "Binned: Band(_name='I', time=array([53389.5, 53392.5, 53401.5, 53404.5, 53410.5, 53431.5, 53434.5,\n",
      "       53437.5, 53440.5, 53443.5, 53455.5, 53461.5, 53464.5, 53473.5]), e_time=array(1.5), flux=array([8.46447448e-08, 1.21947486e-07, 3.52233883e-07, 3.43346245e-07,\n",
      "       2.80027060e-07, 2.12226690e-07, 1.96788629e-07, 1.94804955e-07,\n",
      "       1.83823064e-07, 1.75443356e-07, 8.83079900e-08, 7.38584178e-08,\n",
      "       7.09251071e-08, 4.50401678e-08]), e_flux=array([nan, nan, nan, nan, nan, nan, nan, nan, nan, nan, nan, nan, nan,\n",
      "       nan]), upperlimit=array([False, False, False, False, False, False, False, False, False,\n",
      "       False, False, False, False, False, False, False, False, False,\n",
      "       False, False]))\n",
      "### g: 56 ###\n",
      "Bin width: 3\n",
      "Bins: [53397. 53400. 53403. 53406. 53409.]\n",
      "Binned: Band(_name='g', time=array([53398.5, 53401.5, 53404.5, 53407.5, 53410.5, 53413.5, 53416.5,\n",
      "       53419.5, 53422.5, 53425.5, 53428.5, 53431.5, 53437.5, 53443.5,\n",
      "       53446.5, 53452.5, 53455.5, 53458.5, 53461.5, 53464.5, 53467.5,\n",
      "       53473.5, 53476.5, 53479.5]), e_time=array(1.5), flux=array([3.05604078e-07, 3.79511077e-07, 4.21511110e-07, 4.23904916e-07,\n",
      "       3.97474180e-07, 3.53621683e-07, 3.09954509e-07, 2.53485167e-07,\n",
      "       2.04193602e-07, 1.59753257e-07, 1.27223574e-07, 1.02311565e-07,\n",
      "       6.84973696e-08, 4.72933415e-08, 4.35196250e-08, 3.61409863e-08,\n",
      "       3.31326373e-08, 3.03804326e-08, 2.96483139e-08, 2.76246916e-08,\n",
      "       2.69649736e-08, 2.45031709e-08, 2.33130986e-08, 2.27561696e-08]), e_flux=array([nan, nan, nan, nan, nan, nan, nan, nan, nan, nan, nan, nan, nan,\n",
      "       nan, nan, nan, nan, nan, nan, nan, nan, nan, nan, nan]), upperlimit=array([False, False, False, False, False, False, False, False, False,\n",
      "       False, False, False, False, False, False, False, False, False,\n",
      "       False, False, False, False, False, False, False, False, False,\n",
      "       False, False, False, False, False, False, False, False, False,\n",
      "       False, False, False, False, False, False, False, False, False,\n",
      "       False, False, False, False, False, False, False, False, False,\n",
      "       False, False]))\n",
      "### r: 56 ###\n",
      "Bin width: 3\n",
      "Bins: [53397. 53400. 53403. 53406. 53409.]\n",
      "Binned: Band(_name='r', time=array([53398.5, 53401.5, 53404.5, 53407.5, 53410.5, 53413.5, 53416.5,\n",
      "       53419.5, 53422.5, 53425.5, 53428.5, 53431.5, 53437.5, 53443.5,\n",
      "       53446.5, 53452.5, 53455.5, 53458.5, 53461.5, 53464.5, 53467.5,\n",
      "       53473.5, 53476.5, 53479.5]), e_time=array(1.5), flux=array([2.73085472e-07, 3.33984546e-07, 3.65311246e-07, 3.83365156e-07,\n",
      "       3.81259570e-07, 3.58420209e-07, 3.17430462e-07, 2.73678422e-07,\n",
      "       2.40116657e-07, 2.26814504e-07, 2.09021187e-07, 1.94243298e-07,\n",
      "       1.64422136e-07, 1.16949939e-07, 1.08779854e-07, 7.71258565e-08,\n",
      "       7.50555762e-08, 6.81347436e-08, 6.36795521e-08, 5.69139097e-08,\n",
      "       5.46009250e-08, 4.56445154e-08, 4.21502350e-08, 3.87180401e-08]), e_flux=array([nan, nan, nan, nan, nan, nan, nan, nan, nan, nan, nan, nan, nan,\n",
      "       nan, nan, nan, nan, nan, nan, nan, nan, nan, nan, nan]), upperlimit=array([False, False, False, False, False, False, False, False, False,\n",
      "       False, False, False, False, False, False, False, False, False,\n",
      "       False, False, False, False, False, False, False, False, False,\n",
      "       False, False, False, False, False, False, False, False, False,\n",
      "       False, False, False, False, False, False, False, False, False,\n",
      "       False, False, False, False, False, False, False, False, False,\n",
      "       False, False]))\n",
      "### i: 56 ###\n",
      "Bin width: 3\n",
      "Bins: [53397. 53400. 53403. 53406. 53409.]\n",
      "Binned: Band(_name='i', time=array([53398.5, 53401.5, 53404.5, 53407.5, 53410.5, 53413.5, 53416.5,\n",
      "       53419.5, 53422.5, 53425.5, 53428.5, 53431.5, 53437.5, 53443.5,\n",
      "       53446.5, 53452.5, 53455.5, 53458.5, 53461.5, 53464.5, 53467.5,\n",
      "       53473.5, 53476.5, 53479.5]), e_time=array(1.5), flux=array([2.07908513e-07, 2.44795564e-07, 2.45036697e-07, 2.23980724e-07,\n",
      "       2.11247634e-07, 1.91834859e-07, 1.64200939e-07, 1.39072648e-07,\n",
      "       1.32225470e-07, 1.29438749e-07, 1.36861554e-07, 1.40267454e-07,\n",
      "       1.35395100e-07, 1.06659612e-07, 9.76298796e-08, 6.39734835e-08,\n",
      "       6.09091284e-08, 5.47852749e-08, 5.10035024e-08, 4.36063368e-08,\n",
      "       4.11149721e-08, 3.29623693e-08, 3.10455959e-08, 2.91594302e-08]), e_flux=array([nan, nan, nan, nan, nan, nan, nan, nan, nan, nan, nan, nan, nan,\n",
      "       nan, nan, nan, nan, nan, nan, nan, nan, nan, nan, nan]), upperlimit=array([False, False, False, False, False, False, False, False, False,\n",
      "       False, False, False, False, False, False, False, False, False,\n",
      "       False, False, False, False, False, False, False, False, False,\n",
      "       False, False, False, False, False, False, False, False, False,\n",
      "       False, False, False, False, False, False, False, False, False,\n",
      "       False, False, False, False, False, False, False, False, False,\n",
      "       False, False]))\n",
      "### g_pr: 0 ###\n",
      "### r_pr: 0 ###\n",
      "### i_pr: 0 ###\n"
     ]
    }
   ],
   "execution_count": 6
  },
  {
   "metadata": {
    "ExecuteTime": {
     "end_time": "2025-03-24T18:30:14.774883Z",
     "start_time": "2025-03-24T18:30:14.771415Z"
    }
   },
   "cell_type": "code",
   "source": [
    "# Filter a list of candidates\n",
    "valid_candidates = pipeline.filter_valid(dataset.objects)\n",
    "print(f\"Number of valid candidates: {len(valid_candidates)} / {len(dataset.objects)}\")"
   ],
   "id": "838580ffd719bb0d",
   "outputs": [
    {
     "name": "stdout",
     "output_type": "stream",
     "text": [
      "Number of valid candidates: 37 / 70\n"
     ]
    }
   ],
   "execution_count": 5
  },
  {
   "metadata": {
    "ExecuteTime": {
     "end_time": "2025-03-24T18:30:36.061927Z",
     "start_time": "2025-03-24T18:30:29.047737Z"
    }
   },
   "cell_type": "code",
   "source": [
    "############################\n",
    "# Load the OSC2019 dataset #\n",
    "############################\n",
    "\n",
    "from snanomaly.dataset.osc2019 import OSC2019\n",
    "\n",
    "dataset = OSC2019()\n",
    "\n",
    "print(dataset)\n",
    "\n",
    "print(\"First object:\")\n",
    "print(dataset.objects[0])"
   ],
   "id": "ebcc4110f43d27e",
   "outputs": [
    {
     "name": "stdout",
     "output_type": "stream",
     "text": [
      "2025-03-24T20:30:29.050701+0200 | INFO | osc:_load_data:20 - Loading OSC dataset...\n"
     ]
    },
    {
     "name": "stderr",
     "output_type": "stream",
     "text": [
      "  9%|▉         | 4252/45161 [00:06<01:05, 625.78it/s]\n"
     ]
    },
    {
     "ename": "KeyboardInterrupt",
     "evalue": "",
     "output_type": "error",
     "traceback": [
      "\u001B[31m---------------------------------------------------------------------------\u001B[39m",
      "\u001B[31mKeyboardInterrupt\u001B[39m                         Traceback (most recent call last)",
      "\u001B[36mCell\u001B[39m\u001B[36m \u001B[39m\u001B[32mIn[6]\u001B[39m\u001B[32m, line 7\u001B[39m\n\u001B[32m      1\u001B[39m \u001B[38;5;66;03m############################\u001B[39;00m\n\u001B[32m      2\u001B[39m \u001B[38;5;66;03m# Load the OSC2019 dataset #\u001B[39;00m\n\u001B[32m      3\u001B[39m \u001B[38;5;66;03m############################\u001B[39;00m\n\u001B[32m      5\u001B[39m \u001B[38;5;28;01mfrom\u001B[39;00m\u001B[38;5;250m \u001B[39m\u001B[34;01msnanomaly\u001B[39;00m\u001B[34;01m.\u001B[39;00m\u001B[34;01mdataset\u001B[39;00m\u001B[34;01m.\u001B[39;00m\u001B[34;01mosc2019\u001B[39;00m\u001B[38;5;250m \u001B[39m\u001B[38;5;28;01mimport\u001B[39;00m OSC2019\n\u001B[32m----> \u001B[39m\u001B[32m7\u001B[39m dataset = \u001B[43mOSC2019\u001B[49m\u001B[43m(\u001B[49m\u001B[43m)\u001B[49m\n\u001B[32m      9\u001B[39m \u001B[38;5;28mprint\u001B[39m(dataset)\n\u001B[32m     11\u001B[39m \u001B[38;5;28mprint\u001B[39m(\u001B[33m\"\u001B[39m\u001B[33mFirst object:\u001B[39m\u001B[33m\"\u001B[39m)\n",
      "\u001B[36mFile \u001B[39m\u001B[32m<attrs generated methods snanomaly.dataset.osc2019.OSC2019>:32\u001B[39m, in \u001B[36m__init__\u001B[39m\u001B[34m(self, path)\u001B[39m\n\u001B[32m     30\u001B[39m \u001B[38;5;28mself\u001B[39m.size = attr_dict[\u001B[33m'\u001B[39m\u001B[33msize\u001B[39m\u001B[33m'\u001B[39m].default\n\u001B[32m     31\u001B[39m \u001B[38;5;28mself\u001B[39m.objects = __attr_factory_objects()\n\u001B[32m---> \u001B[39m\u001B[32m32\u001B[39m \u001B[38;5;28;43mself\u001B[39;49m\u001B[43m.\u001B[49m\u001B[43m__attrs_post_init__\u001B[49m\u001B[43m(\u001B[49m\u001B[43m)\u001B[49m\n",
      "\u001B[36mFile \u001B[39m\u001B[32m~/stuff/workspace/snanomaly/src/snanomaly/dataset/osc2019.py:18\u001B[39m, in \u001B[36mOSC2019.__attrs_post_init__\u001B[39m\u001B[34m(self)\u001B[39m\n\u001B[32m     16\u001B[39m \u001B[38;5;28mself\u001B[39m.description = \u001B[33m\"\u001B[39m\u001B[33mThe `Open Supernova Catalog` with data up to 2019.\u001B[39m\u001B[33m\"\u001B[39m\n\u001B[32m     17\u001B[39m \u001B[38;5;28mself\u001B[39m.size = \u001B[32m45161\u001B[39m\n\u001B[32m---> \u001B[39m\u001B[32m18\u001B[39m \u001B[38;5;28;43msuper\u001B[39;49m\u001B[43m(\u001B[49m\u001B[43m)\u001B[49m\u001B[43m.\u001B[49m\u001B[43m__attrs_post_init__\u001B[49m\u001B[43m(\u001B[49m\u001B[43m)\u001B[49m\n",
      "\u001B[36mFile \u001B[39m\u001B[32m~/stuff/workspace/snanomaly/src/snanomaly/dataset/dataset.py:24\u001B[39m, in \u001B[36mDataset.__attrs_post_init__\u001B[39m\u001B[34m(self)\u001B[39m\n\u001B[32m     23\u001B[39m \u001B[38;5;28;01mdef\u001B[39;00m\u001B[38;5;250m \u001B[39m\u001B[34m__attrs_post_init__\u001B[39m(\u001B[38;5;28mself\u001B[39m):\n\u001B[32m---> \u001B[39m\u001B[32m24\u001B[39m     \u001B[38;5;28;43mself\u001B[39;49m\u001B[43m.\u001B[49m\u001B[43m_load_data\u001B[49m\u001B[43m(\u001B[49m\u001B[43m)\u001B[49m\n",
      "\u001B[36mFile \u001B[39m\u001B[32m~/stuff/workspace/snanomaly/src/snanomaly/dataset/osc.py:33\u001B[39m, in \u001B[36mOSC._load_data\u001B[39m\u001B[34m(self)\u001B[39m\n\u001B[32m     31\u001B[39m     logger.warning(\u001B[33mf\u001B[39m\u001B[33m\"\u001B[39m\u001B[33mWarning: Invalid format for `\u001B[39m\u001B[38;5;132;01m{\u001B[39;00mfile.name\u001B[38;5;132;01m}\u001B[39;00m\u001B[33m`. Skipping.\u001B[39m\u001B[33m\"\u001B[39m)\n\u001B[32m     32\u001B[39m     \u001B[38;5;28;01mcontinue\u001B[39;00m\n\u001B[32m---> \u001B[39m\u001B[32m33\u001B[39m sn_candidate = \u001B[43mstructure\u001B[49m\u001B[43m(\u001B[49m\u001B[43mdata\u001B[49m\u001B[43m,\u001B[49m\u001B[43m \u001B[49m\u001B[43mSNCandidate\u001B[49m\u001B[43m)\u001B[49m\n\u001B[32m     34\u001B[39m \u001B[38;5;28mself\u001B[39m.objects.append(sn_candidate)\n\u001B[32m     35\u001B[39m cnt_success += \u001B[32m1\u001B[39m\n",
      "\u001B[36mFile \u001B[39m\u001B[32m~/stuff/workspace/py_venvs/snanomaly/lib/python3.12/site-packages/cattrs/converters.py:558\u001B[39m, in \u001B[36mBaseConverter.structure\u001B[39m\u001B[34m(self, obj, cl)\u001B[39m\n\u001B[32m    556\u001B[39m \u001B[38;5;28;01mdef\u001B[39;00m\u001B[38;5;250m \u001B[39m\u001B[34mstructure\u001B[39m(\u001B[38;5;28mself\u001B[39m, obj: UnstructuredValue, cl: \u001B[38;5;28mtype\u001B[39m[T]) -> T:\n\u001B[32m    557\u001B[39m \u001B[38;5;250m    \u001B[39m\u001B[33;03m\"\"\"Convert unstructured Python data structures to structured data.\"\"\"\u001B[39;00m\n\u001B[32m--> \u001B[39m\u001B[32m558\u001B[39m     \u001B[38;5;28;01mreturn\u001B[39;00m \u001B[38;5;28;43mself\u001B[39;49m\u001B[43m.\u001B[49m\u001B[43m_structure_func\u001B[49m\u001B[43m.\u001B[49m\u001B[43mdispatch\u001B[49m\u001B[43m(\u001B[49m\u001B[43mcl\u001B[49m\u001B[43m)\u001B[49m\u001B[43m(\u001B[49m\u001B[43mobj\u001B[49m\u001B[43m,\u001B[49m\u001B[43m \u001B[49m\u001B[43mcl\u001B[49m\u001B[43m)\u001B[49m\n",
      "\u001B[36mFile \u001B[39m\u001B[32m<cattrs generated structure snanomaly.models.sncandidate.sncandidate.SNCandidate>:183\u001B[39m, in \u001B[36mstructure_SNCandidate\u001B[39m\u001B[34m(o, _, __cl, __c_cve, __c_avn, __c_structure_schema, __c_type_schema, __c_structure_name, __c_type_name, __c_structure_sources, __c_type_sources, __c_structure_alias, __c_type_alias, __c_structure_distinctfrom, __c_type_distinctfrom, __c_structure_error, __c_type_error, __c_structure_ra, __c_type_ra, __c_structure_dec, __c_type_dec, __c_structure_discoverdate, __c_type_discoverdate, __c_structure_maxdate, __c_type_maxdate, __c_structure_maxabsmag, __c_type_maxabsmag, __c_structure_maxappmag, __c_type_maxappmag, __c_structure_maxband, __c_type_maxband, __c_structure_maxvisualabsmag, __c_type_maxvisualabsmag, __c_structure_maxvisualappmag, __c_type_maxvisualappmag, __c_structure_maxvisualband, __c_type_maxvisualband, __c_structure_maxvisualdate, __c_type_maxvisualdate, __c_structure_redshift, __c_type_redshift, __c_structure_lumdist, __c_type_lumdist, __c_structure_comovingdist, __c_type_comovingdist, __c_structure_velocity, __c_type_velocity, __c_structure_claimedtype, __c_type_claimedtype, __c_structure_discoverer, __c_type_discoverer, __c_structure_ebv, __c_type_ebv, __c_structure_host, __c_type_host, __c_structure_hostra, __c_type_hostra, __c_structure_hostdec, __c_type_hostdec, __c_structure_hostoffsetang, __c_type_hostoffsetang, __c_structure_hostoffsetdist, __c_type_hostoffsetdist, __c_structure_photometry, __c_type_photometry, __c_structure_spectra, __c_type_spectra)\u001B[39m\n\u001B[32m    181\u001B[39m if 'spectra' in o:\n\u001B[32m    182\u001B[39m   try:\n\u001B[32m--> \u001B[39m\u001B[32m183\u001B[39m     res['spectra'] = __c_structure_spectra(o['spectra'], __c_type_spectra)\n\u001B[32m    184\u001B[39m   except Exception as e:\n\u001B[32m    185\u001B[39m     e.__notes__ = getattr(e, '__notes__', []) + [__c_avn(\"Structuring class SNCandidate @ attribute spectra\", \"spectra\", __c_type_spectra)]\n",
      "\u001B[36mFile \u001B[39m\u001B[32m~/stuff/workspace/py_venvs/snanomaly/lib/python3.12/site-packages/cattrs/cols.py:133\u001B[39m, in \u001B[36mlist_structure_factory.<locals>.structure_list\u001B[39m\u001B[34m(obj, _, _handler, _elem_type)\u001B[39m\n\u001B[32m    131\u001B[39m \u001B[38;5;28;01mfor\u001B[39;00m e \u001B[38;5;129;01min\u001B[39;00m obj:\n\u001B[32m    132\u001B[39m     \u001B[38;5;28;01mtry\u001B[39;00m:\n\u001B[32m--> \u001B[39m\u001B[32m133\u001B[39m         res.append(\u001B[43mhandler\u001B[49m\u001B[43m(\u001B[49m\u001B[43me\u001B[49m\u001B[43m,\u001B[49m\u001B[43m \u001B[49m\u001B[43m_elem_type\u001B[49m\u001B[43m)\u001B[49m)\n\u001B[32m    134\u001B[39m     \u001B[38;5;28;01mexcept\u001B[39;00m \u001B[38;5;167;01mException\u001B[39;00m \u001B[38;5;28;01mas\u001B[39;00m e:\n\u001B[32m    135\u001B[39m         msg = IterableValidationNote(\n\u001B[32m    136\u001B[39m             \u001B[33mf\u001B[39m\u001B[33m\"\u001B[39m\u001B[33mStructuring \u001B[39m\u001B[38;5;132;01m{\u001B[39;00m\u001B[38;5;28mtype\u001B[39m\u001B[38;5;132;01m}\u001B[39;00m\u001B[33m @ index \u001B[39m\u001B[38;5;132;01m{\u001B[39;00mix\u001B[38;5;132;01m}\u001B[39;00m\u001B[33m\"\u001B[39m, ix, elem_type\n\u001B[32m    137\u001B[39m         )\n",
      "\u001B[36mFile \u001B[39m\u001B[32m<cattrs generated structure snanomaly.models.sncandidate.spectraobs.SpectraObs>:107\u001B[39m, in \u001B[36mstructure_SpectraObs\u001B[39m\u001B[34m(o, _, __cl, __c_cve, __c_avn, __c_structure_source, __c_type_source, __c_type_time, __c_structure_e_time, __c_type_e_time, __c_structure_e_lower_time, __c_type_e_lower_time, __c_structure_e_upper_time, __c_type_e_upper_time, __c_structure_u_time, __c_type_u_time, __c_structure_survey, __c_type_survey, __c_structure_instrument, __c_type_instrument, __c_structure_telescope, __c_type_telescope, __c_structure_observatory, __c_type_observatory, __c_structure_observer, __c_type_observer, __c_structure_reducer, __c_type_reducer, __c_structure_airmass, __c_type_airmass, __c_structure_host, __c_type_host, __c_structure_includeshost, __c_type_includeshost, __c_structure_model, __c_type_model, __c_structure_realization, __c_type_realization, __c_structure_data, __c_type_data, __c_structure_u_wavelengths, __c_type_u_wavelengths, __c_structure_u_fluxes, __c_type_u_fluxes, __c_structure_u_errors, __c_type_u_errors, __c_structure_snr, __c_type_snr, __c_structure_filename, __c_type_filename, __c_structure_deredshifted, __c_type_deredshifted, __c_structure_dereddened, __c_type_dereddened, __c_structure_vacuumwavelengths, __c_type_vacuumwavelengths, __c_structure_exclude, __c_type_exclude)\u001B[39m\n\u001B[32m    105\u001B[39m if 'data' in o:\n\u001B[32m    106\u001B[39m   try:\n\u001B[32m--> \u001B[39m\u001B[32m107\u001B[39m     res['data'] = __c_structure_data(o['data'], __c_type_data)\n\u001B[32m    108\u001B[39m   except Exception as e:\n\u001B[32m    109\u001B[39m     e.__notes__ = getattr(e, '__notes__', []) + [__c_avn(\"Structuring class SpectraObs @ attribute data\", \"data\", __c_type_data)]\n",
      "\u001B[36mFile \u001B[39m\u001B[32m~/stuff/workspace/snanomaly/src/snanomaly/utils/converters.py:20\u001B[39m, in \u001B[36mNumpyArrayConverter.structure\u001B[39m\u001B[34m(cls, data, _target_cls)\u001B[39m\n\u001B[32m     18\u001B[39m \u001B[38;5;28;01mif\u001B[39;00m data \u001B[38;5;129;01mis\u001B[39;00m \u001B[38;5;28;01mNone\u001B[39;00m:\n\u001B[32m     19\u001B[39m     \u001B[38;5;28;01mreturn\u001B[39;00m \u001B[38;5;28;01mNone\u001B[39;00m\n\u001B[32m---> \u001B[39m\u001B[32m20\u001B[39m \u001B[38;5;28;01mreturn\u001B[39;00m \u001B[43mnp\u001B[49m\u001B[43m.\u001B[49m\u001B[43marray\u001B[49m\u001B[43m(\u001B[49m\u001B[43mdata\u001B[49m\u001B[43m)\u001B[49m\n",
      "\u001B[31mKeyboardInterrupt\u001B[39m: "
     ]
    }
   ],
   "execution_count": 6
  }
 ],
 "metadata": {
  "kernelspec": {
   "display_name": "Python 3",
   "language": "python",
   "name": "python3"
  },
  "language_info": {
   "codemirror_mode": {
    "name": "ipython",
    "version": 2
   },
   "file_extension": ".py",
   "mimetype": "text/x-python",
   "name": "python",
   "nbconvert_exporter": "python",
   "pygments_lexer": "ipython2",
   "version": "2.7.6"
  }
 },
 "nbformat": 4,
 "nbformat_minor": 5
}
