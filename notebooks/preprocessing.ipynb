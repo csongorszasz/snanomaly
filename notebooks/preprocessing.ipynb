{
 "cells": [
  {
   "metadata": {},
   "cell_type": "markdown",
   "source": "# Instantiate dataset, select 2 samples",
   "id": "60f5a47070533628"
  },
  {
   "metadata": {
    "ExecuteTime": {
     "end_time": "2025-04-09T20:08:42.538828Z",
     "start_time": "2025-04-09T20:08:42.334775Z"
    }
   },
   "cell_type": "code",
   "source": [
    "from snanomaly.dataset import OSCFactory\n",
    "dataset = OSCFactory.OSC2018June()\n",
    "sn1 = dataset.load_datapoint(dataset.path / \"SN2005M.json\")\n",
    "sn2 = dataset.load_datapoint(dataset.path / \"[HP99] 456.json\")"
   ],
   "id": "16cd8efcce2f3f64",
   "outputs": [],
   "execution_count": 1
  },
  {
   "metadata": {},
   "cell_type": "markdown",
   "source": "# Binning",
   "id": "26f939a778b6e9c6"
  },
  {
   "metadata": {
    "ExecuteTime": {
     "end_time": "2025-04-09T20:08:42.549634Z",
     "start_time": "2025-04-09T20:08:42.543076Z"
    }
   },
   "cell_type": "code",
   "source": [
    "from snanomaly.preprocessing.binning import *\n",
    "\n",
    "for band in sn1.photometry.bands.get_bands():\n",
    "    print(f\"### {band.name}: {band.nr_observations} ###\")\n",
    "    if band.nr_observations == 0:\n",
    "        continue\n",
    "    b = Binning(band=band, bin_width=3)\n",
    "    print(\"Bin width:\", b.bin_width)\n",
    "    print(\"First three bins:\", b.bins[:3])\n",
    "\n",
    "    binned = b()\n",
    "    print(\"Binned:\", binned)"
   ],
   "id": "775ec518b2571d0c",
   "outputs": [
    {
     "name": "stdout",
     "output_type": "stream",
     "text": [
      "### B: 78 ###\n",
      "Bin width: 3\n",
      "First three bins: [53388. 53391. 53397.]\n",
      "Binned: Band(B, 29 observations)\n",
      "### R: 20 ###\n",
      "Bin width: 3\n",
      "First three bins: [53388. 53391. 53400.]\n",
      "Binned: Band(R, 14 observations)\n",
      "### I: 20 ###\n",
      "Bin width: 3\n",
      "First three bins: [53388. 53391. 53400.]\n",
      "Binned: Band(I, 14 observations)\n",
      "### g: 56 ###\n",
      "Bin width: 3\n",
      "First three bins: [53397. 53400. 53403.]\n",
      "Binned: Band(g, 24 observations)\n",
      "### r: 56 ###\n",
      "Bin width: 3\n",
      "First three bins: [53397. 53400. 53403.]\n",
      "Binned: Band(r, 24 observations)\n",
      "### i: 56 ###\n",
      "Bin width: 3\n",
      "First three bins: [53397. 53400. 53403.]\n",
      "Binned: Band(i, 24 observations)\n",
      "### g_pr: 0 ###\n",
      "### r_pr: 0 ###\n",
      "### i_pr: 0 ###\n"
     ]
    }
   ],
   "execution_count": 2
  },
  {
   "metadata": {},
   "cell_type": "markdown",
   "source": "# Setup validation pipeline",
   "id": "fa1974996a90c716"
  },
  {
   "metadata": {
    "ExecuteTime": {
     "end_time": "2025-04-09T20:08:42.620507Z",
     "start_time": "2025-04-09T20:08:42.614649Z"
    }
   },
   "cell_type": "code",
   "source": [
    "from snanomaly.preprocessing.cleaning.checks.photometry import MinimumObservationsPerBand\n",
    "from snanomaly.preprocessing.cleaning.validation_pipeline import ValidationPipeline\n",
    "from snanomaly.models.sncandidate import Bandset\n",
    "\n",
    "# Create a pipeline with checks\n",
    "pipeline = ValidationPipeline(\n",
    "    checks=[\n",
    "        MinimumObservationsPerBand(\n",
    "            min_observations=3,\n",
    "            bandsets=[Bandset.BRI, Bandset.gri, Bandset.gri_primed]\n",
    "        )\n",
    "    ],\n",
    "    fail_fast=True\n",
    ")"
   ],
   "id": "6e2fef0ee6f74de4",
   "outputs": [],
   "execution_count": 3
  },
  {
   "metadata": {},
   "cell_type": "markdown",
   "source": "# Validating one candidate",
   "id": "b52c6ded27168940"
  },
  {
   "metadata": {
    "ExecuteTime": {
     "end_time": "2025-04-09T20:08:42.730594Z",
     "start_time": "2025-04-09T20:08:42.665421Z"
    }
   },
   "cell_type": "code",
   "source": [
    "sn1 = dataset.load_datapoint(dataset.path / \"SN2005M.json\")\n",
    "pipeline.validate(sn1)\n",
    "pipeline.print_results(only_errors=False)\n",
    "print(sn1.photometry.bands.available_bandsets)"
   ],
   "id": "9501b27b27ed4c3c",
   "outputs": [
    {
     "name": "stdout",
     "output_type": "stream",
     "text": [
      "### SN2005M ###\n",
      "Passed.\n",
      "{<Bandset.BRI: ('B', 'R', 'I')>, <Bandset.gri: ('g', 'r', 'i')>}\n"
     ]
    }
   ],
   "execution_count": 4
  },
  {
   "metadata": {
    "ExecuteTime": {
     "end_time": "2025-04-09T20:08:42.741032Z",
     "start_time": "2025-04-09T20:08:42.737972Z"
    }
   },
   "cell_type": "code",
   "source": [
    "sn2 = dataset.load_datapoint(dataset.path / \"[HP99] 456.json\")\n",
    "pipeline.validate(sn2)\n",
    "pipeline.print_results(only_errors=False)"
   ],
   "id": "63eb72cb330915ba",
   "outputs": [
    {
     "name": "stdout",
     "output_type": "stream",
     "text": [
      "### [HP99] 456 ###\n",
      "Check failed: [check=MinimumObservationsPerBand; message=No photometry data available]\n"
     ]
    }
   ],
   "execution_count": 5
  },
  {
   "metadata": {},
   "cell_type": "markdown",
   "source": "# Filtering a collection of candidates",
   "id": "5ffb45de8c7519ac"
  },
  {
   "metadata": {
    "ExecuteTime": {
     "end_time": "2025-04-09T20:08:42.793727Z",
     "start_time": "2025-04-09T20:08:42.789953Z"
    }
   },
   "cell_type": "code",
   "source": [
    "from tqdm import tqdm\n",
    "from snanomaly import dirs\n",
    "\n",
    "batch_size = 12\n",
    "candidates = dataset.load_dataset(batch_size=batch_size)"
   ],
   "id": "a4f6a87e5340da4c",
   "outputs": [],
   "execution_count": 6
  },
  {
   "metadata": {},
   "cell_type": "markdown",
   "source": "### Validating just one batch",
   "id": "988c89c99848fe72"
  },
  {
   "metadata": {
    "ExecuteTime": {
     "end_time": "2025-04-09T20:08:42.987656Z",
     "start_time": "2025-04-09T20:08:42.846635Z"
    }
   },
   "cell_type": "code",
   "source": [
    "batch_size = 12\n",
    "candidates = dataset.load_dataset(batch_size=batch_size)\n",
    "valid_candidates = pipeline.filter_valid(candidates) # TODO: figure out why `available_bandsets` is cleared\n",
    "batch = next(valid_candidates)\n",
    "for c in batch:\n",
    "    print(c.name, c.photometry.bands.available_bandsets)"
   ],
   "id": "1247cd851e86e950",
   "outputs": [
    {
     "name": "stdout",
     "output_type": "stream",
     "text": [
      "SDSS-II SN 21396 {<Bandset.gri_primed: ('g_pr', 'r_pr', 'i_pr')>}\n",
      "SDSS-II SN 19334 {<Bandset.gri_primed: ('g_pr', 'r_pr', 'i_pr')>}\n",
      "SDSS-II SN 21324 {<Bandset.gri_primed: ('g_pr', 'r_pr', 'i_pr')>}\n",
      "SN2016cuv {<Bandset.gri: ('g', 'r', 'i')>}\n"
     ]
    }
   ],
   "execution_count": 7
  },
  {
   "metadata": {},
   "cell_type": "markdown",
   "source": "### Just counting valid candidates",
   "id": "c908e2be61af62a4"
  },
  {
   "metadata": {},
   "cell_type": "code",
   "source": [
    "valid_candidates = pipeline.filter_valid(candidates)\n",
    "\n",
    "cnt_valid = 0\n",
    "for batch in tqdm(valid_candidates, desc=\"Batches validated\", total=dataset.nr_datapoints // batch_size):\n",
    "    cnt_valid += len(batch)\n",
    "\n",
    "print(f\"No. valid candidates: {cnt_valid}/{dataset.nr_datapoints} ({cnt_valid / dataset.nr_datapoints * 100:.2f}%)\")"
   ],
   "id": "8765df1abd0cbcae",
   "outputs": [],
   "execution_count": null
  },
  {
   "metadata": {},
   "cell_type": "markdown",
   "source": "### Saving valid candidates to disk",
   "id": "4847cad74330d413"
  },
  {
   "metadata": {
    "ExecuteTime": {
     "end_time": "2025-04-09T20:28:53.634330Z",
     "start_time": "2025-04-09T20:22:29.677147Z"
    }
   },
   "cell_type": "code",
   "source": [
    "valid_candidates = pipeline.filter_valid(candidates)\n",
    "\n",
    "out_path = dirs.OUTPUTS / \"valid_canditates.csv\"\n",
    "cnt_valid = 0\n",
    "with out_path.open(\"w\") as f:\n",
    "    f.write(\"name,BRI,gri,g'r'i'\\n\")\n",
    "    for batch in tqdm(valid_candidates, desc=\"Batches validated\", total=dataset.nr_datapoints // batch_size):\n",
    "        cnt_valid += len(batch)\n",
    "        for candidate in batch:\n",
    "            av_bandsets_str = \",\".join([str(bs in candidate.photometry.bands.available_bandsets) for bs in (Bandset.BRI, Bandset.gri, Bandset.gri_primed)])\n",
    "            f.write(f\"{candidate.name},{av_bandsets_str}\\n\")\n",
    "\n",
    "print(f\"No. valid candidates: {cnt_valid}/{dataset.nr_datapoints} ({cnt_valid / dataset.nr_datapoints * 100:.2f}%)\")"
   ],
   "id": "46f75eb0ef926abe",
   "outputs": [
    {
     "name": "stderr",
     "output_type": "stream",
     "text": [
      "Batches validated:  78%|███████▊  | 2932/3763 [06:23<01:48,  7.64it/s]"
     ]
    },
    {
     "name": "stdout",
     "output_type": "stream",
     "text": [
      "No. valid candidates: 4782/45162 (10.59%)\n"
     ]
    },
    {
     "name": "stderr",
     "output_type": "stream",
     "text": [
      "\n"
     ]
    }
   ],
   "execution_count": 13
  },
  {
   "metadata": {},
   "cell_type": "markdown",
   "source": "# Visualization of binned light curves",
   "id": "519806845d5be5e0"
  },
  {
   "metadata": {},
   "cell_type": "code",
   "source": [
    "### Visualization ###\n",
    "from snanomaly.visualization.photometry import *\n",
    "\n",
    "bands = sn1.photometry.bands\n",
    "plot = PlotPhotometry()\n",
    "plot.set_title(sn1.name)\n",
    "\n",
    "bands.B.e_flux[4] = 5 * 10 ** (-8)  # dummy error TODO: remove\n",
    "bands.R.e_flux[6] = 3 * 10 ** (-8)  # dummy error TODO: remove\n",
    "bs_BRI = Bandset([bands.B, bands.R, bands.I])\n",
    "plot.set_bands([bs_BRI])\n",
    "plot.show()\n",
    "\n",
    "bs_gri = Bandset([bands.g, bands.r, bands.i])\n",
    "plot.set_bands([bs_gri])\n",
    "plot.show()\n",
    "\n",
    "plot.set_bands([bs_BRI, bs_gri])\n",
    "plot.show()"
   ],
   "id": "d4183f09e83e0897",
   "outputs": [],
   "execution_count": null
  },
  {
   "metadata": {},
   "cell_type": "code",
   "source": [
    "import plotly.offline as py\n",
    "import plotly.graph_objects as go\n",
    "\n",
    "fig = go.Figure()\n",
    "fig.update_layout(\n",
    "    title=r\"$\\LaTeX\\ Example$\",\n",
    "    xaxis_title=r\"$x$\",\n",
    "    yaxis_title=r\"$y$\"\n",
    ")\n",
    "# fig.show()\n",
    "py.iplot(fig, filename=\"latex\")"
   ],
   "id": "f13ed7273d6fcaa3",
   "outputs": [],
   "execution_count": null
  },
  {
   "metadata": {},
   "cell_type": "code",
   "source": [
    "import plotly.offline as py\n",
    "import plotly.graph_objects as go\n",
    "\n",
    "fig = go.Figure()\n",
    "fig.update_layout(\n",
    "    title=\"No LaTeX Example\",\n",
    "    xaxis_title=\"x\",\n",
    "    yaxis_title=\"y\"\n",
    ")\n",
    "# fig.show()\n",
    "py.iplot(fig, filename=\"latex\")"
   ],
   "id": "1c09db6555b163b0",
   "outputs": [],
   "execution_count": null
  },
  {
   "metadata": {},
   "cell_type": "code",
   "source": "",
   "id": "31cd51afc5102aa7",
   "outputs": [],
   "execution_count": null
  }
 ],
 "metadata": {
  "kernelspec": {
   "display_name": "3.12.8",
   "language": "python",
   "name": "python3"
  },
  "language_info": {
   "codemirror_mode": {
    "name": "ipython",
    "version": 2
   },
   "file_extension": ".py",
   "mimetype": "text/x-python",
   "name": "python",
   "nbconvert_exporter": "python",
   "pygments_lexer": "ipython2",
   "version": "3.12.8"
  }
 },
 "nbformat": 4,
 "nbformat_minor": 5
}
