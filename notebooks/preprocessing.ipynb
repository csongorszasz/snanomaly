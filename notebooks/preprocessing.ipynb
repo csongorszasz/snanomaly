{
 "cells": [
  {
   "metadata": {
    "ExecuteTime": {
     "end_time": "2025-03-23T14:28:39.059883Z",
     "start_time": "2025-03-23T14:28:38.948287Z"
    }
   },
   "cell_type": "code",
   "source": [
    "################################\n",
    "# Load the OSC2019Mini dataset #\n",
    "################################\n",
    "\n",
    "from snanomaly.dataset.osc2019_mini import OSC2019Mini\n",
    "\n",
    "dataset = OSC2019Mini()\n",
    "\n",
    "print(dataset)\n",
    "\n",
    "print(\"First object:\")\n",
    "print(dataset.objects[0])\n",
    "\n",
    "sn = dataset.objects[1]\n",
    "sn\n",
    "sn.photometry"
   ],
   "id": "16cd8efcce2f3f64",
   "outputs": [
    {
     "name": "stdout",
     "output_type": "stream",
     "text": [
      "2025-03-23T16:28:38.949718+0200 | INFO | osc:_load_data:20 - Loading OSC dataset...\n"
     ]
    },
    {
     "name": "stderr",
     "output_type": "stream",
     "text": [
      "100%|██████████| 70/70 [00:00<00:00, 662.05it/s]"
     ]
    },
    {
     "name": "stdout",
     "output_type": "stream",
     "text": [
      "2025-03-23T16:28:39.057147+0200 | INFO | osc:_load_data:41 - 0 object(s) were omitted. Successfully loaded 70/70.\n",
      "##############################\n",
      "Dataset: OSC-2019 Mini\n",
      "Description: The `Open Supernova Catalog` with data up to 2019. Contains a small subset of the OSC-2019 dataset (<100 objects). Objects were selected from various catalogues to ensure diversity.\n",
      "Size: 70 objects\n",
      "Path: /home/chongy/stuff/workspace/snanomaly/datasets/osc2019_mini\n",
      "##############################\n",
      "First object:\n",
      "SNCandidate(name=CLJ0152-1357-cand3, alias=[CLJ0152-1357-cand3])\n"
     ]
    },
    {
     "name": "stderr",
     "output_type": "stream",
     "text": [
      "\n"
     ]
    },
    {
     "data": {
      "text/plain": [
       "[PhotometryObs(source='2', time=58022.6209954, e_time=None, e_lower_time=None, e_upper_time=None, u_time='MJD', survey=None, instrument='ACAM1', telescope='ATLAS1', observatory=None, observer='Robot', reducer=None, airmass=None, host=None, includeshost=None, model=None, realization=None, countrate=None, e_countrate=None, e_lower_countrate=None, e_upper_countrate=None, magnitude=18.66, e_magnitude=None, e_lower_magnitude=None, e_upper_magnitude=None, zeropoint=None, band='orange', bandset=None, system=None, upperlimit=True, upperlimitsigma=None, kcorrected=None, scorrected=None, mcorrected=None),\n",
       " PhotometryObs(source='2', time=58028.6389931, e_time=None, e_lower_time=None, e_upper_time=None, u_time='MJD', survey=None, instrument='ACAM1', telescope='ATLAS1', observatory=None, observer='Robot', reducer=None, airmass=None, host=None, includeshost=None, model=None, realization=None, countrate=None, e_countrate=None, e_lower_countrate=None, e_upper_countrate=None, magnitude=18.557, e_magnitude=1.827, e_lower_magnitude=None, e_upper_magnitude=None, zeropoint=None, band='orange', bandset=None, system=None, upperlimit=None, upperlimitsigma=None, kcorrected=None, scorrected=None, mcorrected=None),\n",
       " PhotometryObs(source='3', time=58043.6385509116, e_time=None, e_lower_time=None, e_upper_time=None, u_time='MJD', survey=None, instrument='GPC', telescope='Pan-STARRS1', observatory=None, observer=None, reducer=None, airmass=None, host=None, includeshost=None, model=None, realization=None, countrate=None, e_countrate=None, e_lower_countrate=None, e_upper_countrate=None, magnitude=17.5453, e_magnitude=0.0790269, e_lower_magnitude=None, e_upper_magnitude=None, zeropoint=None, band='z', bandset=None, system=None, upperlimit=None, upperlimitsigma=None, kcorrected=None, scorrected=None, mcorrected=None),\n",
       " PhotometryObs(source='3', time=58043.6385509116, e_time=None, e_lower_time=None, e_upper_time=None, u_time='MJD', survey=None, instrument='GPC', telescope='Pan-STARRS1', observatory=None, observer=None, reducer=None, airmass=None, host=None, includeshost=None, model=None, realization=None, countrate=None, e_countrate=None, e_lower_countrate=None, e_upper_countrate=None, magnitude=17.555, e_magnitude=0.0727755, e_lower_magnitude=None, e_upper_magnitude=None, zeropoint=None, band='z', bandset=None, system=None, upperlimit=None, upperlimitsigma=None, kcorrected=None, scorrected=None, mcorrected=None),\n",
       " PhotometryObs(source='2', time=58043.6389931, e_time=None, e_lower_time=None, e_upper_time=None, u_time='MJD', survey=None, instrument='GPC1', telescope='PS1', observatory=None, observer='Robot', reducer=None, airmass=None, host=None, includeshost=None, model=None, realization=None, countrate=None, e_countrate=None, e_lower_countrate=None, e_upper_countrate=None, magnitude=17.55, e_magnitude=0.08, e_lower_magnitude=None, e_upper_magnitude=None, zeropoint=None, band='z', bandset=None, system=None, upperlimit=None, upperlimitsigma=None, kcorrected=None, scorrected=None, mcorrected=None),\n",
       " PhotometryObs(source='3', time=58043.6462467519, e_time=None, e_lower_time=None, e_upper_time=None, u_time='MJD', survey=None, instrument='GPC', telescope='Pan-STARRS1', observatory=None, observer=None, reducer=None, airmass=None, host=None, includeshost=None, model=None, realization=None, countrate=None, e_countrate=None, e_lower_countrate=None, e_upper_countrate=None, magnitude=17.6362, e_magnitude=0.0682995, e_lower_magnitude=None, e_upper_magnitude=None, zeropoint=None, band='z', bandset=None, system=None, upperlimit=None, upperlimitsigma=None, kcorrected=None, scorrected=None, mcorrected=None),\n",
       " PhotometryObs(source='3', time=58043.6462467519, e_time=None, e_lower_time=None, e_upper_time=None, u_time='MJD', survey=None, instrument='GPC', telescope='Pan-STARRS1', observatory=None, observer=None, reducer=None, airmass=None, host=None, includeshost=None, model=None, realization=None, countrate=None, e_countrate=None, e_lower_countrate=None, e_upper_countrate=None, magnitude=17.6562, e_magnitude=0.0745524, e_lower_magnitude=None, e_upper_magnitude=None, zeropoint=None, band='z', bandset=None, system=None, upperlimit=None, upperlimitsigma=None, kcorrected=None, scorrected=None, mcorrected=None),\n",
       " PhotometryObs(source='3', time=58047.6527488219, e_time=None, e_lower_time=None, e_upper_time=None, u_time='MJD', survey=None, instrument='GPC', telescope='Pan-STARRS1', observatory=None, observer=None, reducer=None, airmass=None, host=None, includeshost=None, model=None, realization=None, countrate=None, e_countrate=None, e_lower_countrate=None, e_upper_countrate=None, magnitude=18.1249, e_magnitude=0.196026, e_lower_magnitude=None, e_upper_magnitude=None, zeropoint=None, band='y', bandset=None, system=None, upperlimit=None, upperlimitsigma=None, kcorrected=None, scorrected=None, mcorrected=None),\n",
       " PhotometryObs(source='3', time=58047.6527488219, e_time=None, e_lower_time=None, e_upper_time=None, u_time='MJD', survey=None, instrument='GPC', telescope='Pan-STARRS1', observatory=None, observer=None, reducer=None, airmass=None, host=None, includeshost=None, model=None, realization=None, countrate=None, e_countrate=None, e_lower_countrate=None, e_upper_countrate=None, magnitude=18.1595, e_magnitude=0.183875, e_lower_magnitude=None, e_upper_magnitude=None, zeropoint=None, band='y', bandset=None, system=None, upperlimit=None, upperlimitsigma=None, kcorrected=None, scorrected=None, mcorrected=None),\n",
       " PhotometryObs(source='3', time=58054.6428859061, e_time=None, e_lower_time=None, e_upper_time=None, u_time='MJD', survey=None, instrument='GPC', telescope='Pan-STARRS1', observatory=None, observer=None, reducer=None, airmass=None, host=None, includeshost=None, model=None, realization=None, countrate=None, e_countrate=None, e_lower_countrate=None, e_upper_countrate=None, magnitude=18.7143, e_magnitude=0.0666391, e_lower_magnitude=None, e_upper_magnitude=None, zeropoint=None, band='z', bandset=None, system=None, upperlimit=None, upperlimitsigma=None, kcorrected=None, scorrected=None, mcorrected=None),\n",
       " PhotometryObs(source='3', time=58054.6428859061, e_time=None, e_lower_time=None, e_upper_time=None, u_time='MJD', survey=None, instrument='GPC', telescope='Pan-STARRS1', observatory=None, observer=None, reducer=None, airmass=None, host=None, includeshost=None, model=None, realization=None, countrate=None, e_countrate=None, e_lower_countrate=None, e_upper_countrate=None, magnitude=18.7381, e_magnitude=0.062431, e_lower_magnitude=None, e_upper_magnitude=None, zeropoint=None, band='z', bandset=None, system=None, upperlimit=None, upperlimitsigma=None, kcorrected=None, scorrected=None, mcorrected=None),\n",
       " PhotometryObs(source='3', time=58054.6494960175, e_time=None, e_lower_time=None, e_upper_time=None, u_time='MJD', survey=None, instrument='GPC', telescope='Pan-STARRS1', observatory=None, observer=None, reducer=None, airmass=None, host=None, includeshost=None, model=None, realization=None, countrate=None, e_countrate=None, e_lower_countrate=None, e_upper_countrate=None, magnitude=19.0801, e_magnitude=0.179554, e_lower_magnitude=None, e_upper_magnitude=None, zeropoint=None, band='y', bandset=None, system=None, upperlimit=None, upperlimitsigma=None, kcorrected=None, scorrected=None, mcorrected=None),\n",
       " PhotometryObs(source='3', time=58054.6494960175, e_time=None, e_lower_time=None, e_upper_time=None, u_time='MJD', survey=None, instrument='GPC', telescope='Pan-STARRS1', observatory=None, observer=None, reducer=None, airmass=None, host=None, includeshost=None, model=None, realization=None, countrate=None, e_countrate=None, e_lower_countrate=None, e_upper_countrate=None, magnitude=19.1008, e_magnitude=0.181974, e_lower_magnitude=None, e_upper_magnitude=None, zeropoint=None, band='y', bandset=None, system=None, upperlimit=None, upperlimitsigma=None, kcorrected=None, scorrected=None, mcorrected=None),\n",
       " PhotometryObs(source='3', time=58055.6383797941, e_time=None, e_lower_time=None, e_upper_time=None, u_time='MJD', survey=None, instrument='GPC', telescope='Pan-STARRS1', observatory=None, observer=None, reducer=None, airmass=None, host=None, includeshost=None, model=None, realization=None, countrate=None, e_countrate=None, e_lower_countrate=None, e_upper_countrate=None, magnitude=18.9618, e_magnitude=0.0494085, e_lower_magnitude=None, e_upper_magnitude=None, zeropoint=None, band='z', bandset=None, system=None, upperlimit=None, upperlimitsigma=None, kcorrected=None, scorrected=None, mcorrected=None),\n",
       " PhotometryObs(source='3', time=58055.6383797941, e_time=None, e_lower_time=None, e_upper_time=None, u_time='MJD', survey=None, instrument='GPC', telescope='Pan-STARRS1', observatory=None, observer=None, reducer=None, airmass=None, host=None, includeshost=None, model=None, realization=None, countrate=None, e_countrate=None, e_lower_countrate=None, e_upper_countrate=None, magnitude=18.9757, e_magnitude=0.0542812, e_lower_magnitude=None, e_upper_magnitude=None, zeropoint=None, band='z', bandset=None, system=None, upperlimit=None, upperlimitsigma=None, kcorrected=None, scorrected=None, mcorrected=None),\n",
       " PhotometryObs(source='3', time=58055.6504192302, e_time=None, e_lower_time=None, e_upper_time=None, u_time='MJD', survey=None, instrument='GPC', telescope='Pan-STARRS1', observatory=None, observer=None, reducer=None, airmass=None, host=None, includeshost=None, model=None, realization=None, countrate=None, e_countrate=None, e_lower_countrate=None, e_upper_countrate=None, magnitude=18.9025, e_magnitude=0.096442, e_lower_magnitude=None, e_upper_magnitude=None, zeropoint=None, band='y', bandset=None, system=None, upperlimit=None, upperlimitsigma=None, kcorrected=None, scorrected=None, mcorrected=None),\n",
       " PhotometryObs(source='3', time=58055.6504192302, e_time=None, e_lower_time=None, e_upper_time=None, u_time='MJD', survey=None, instrument='GPC', telescope='Pan-STARRS1', observatory=None, observer=None, reducer=None, airmass=None, host=None, includeshost=None, model=None, realization=None, countrate=None, e_countrate=None, e_lower_countrate=None, e_upper_countrate=None, magnitude=18.9145, e_magnitude=0.0950644, e_lower_magnitude=None, e_upper_magnitude=None, zeropoint=None, band='y', bandset=None, system=None, upperlimit=None, upperlimitsigma=None, kcorrected=None, scorrected=None, mcorrected=None),\n",
       " PhotometryObs(source='3', time=58055.6527975713, e_time=None, e_lower_time=None, e_upper_time=None, u_time='MJD', survey=None, instrument='GPC', telescope='Pan-STARRS1', observatory=None, observer=None, reducer=None, airmass=None, host=None, includeshost=None, model=None, realization=None, countrate=None, e_countrate=None, e_lower_countrate=None, e_upper_countrate=None, magnitude=19.0489, e_magnitude=0.104767, e_lower_magnitude=None, e_upper_magnitude=None, zeropoint=None, band='y', bandset=None, system=None, upperlimit=None, upperlimitsigma=None, kcorrected=None, scorrected=None, mcorrected=None),\n",
       " PhotometryObs(source='3', time=58055.6527975713, e_time=None, e_lower_time=None, e_upper_time=None, u_time='MJD', survey=None, instrument='GPC', telescope='Pan-STARRS1', observatory=None, observer=None, reducer=None, airmass=None, host=None, includeshost=None, model=None, realization=None, countrate=None, e_countrate=None, e_lower_countrate=None, e_upper_countrate=None, magnitude=19.049, e_magnitude=0.109932, e_lower_magnitude=None, e_upper_magnitude=None, zeropoint=None, band='y', bandset=None, system=None, upperlimit=None, upperlimitsigma=None, kcorrected=None, scorrected=None, mcorrected=None),\n",
       " PhotometryObs(source='3', time=58056.6485163184, e_time=None, e_lower_time=None, e_upper_time=None, u_time='MJD', survey=None, instrument='GPC', telescope='Pan-STARRS1', observatory=None, observer=None, reducer=None, airmass=None, host=None, includeshost=None, model=None, realization=None, countrate=None, e_countrate=None, e_lower_countrate=None, e_upper_countrate=None, magnitude=18.9534, e_magnitude=0.131546, e_lower_magnitude=None, e_upper_magnitude=None, zeropoint=None, band='z', bandset=None, system=None, upperlimit=None, upperlimitsigma=None, kcorrected=None, scorrected=None, mcorrected=None),\n",
       " PhotometryObs(source='3', time=58056.6485163184, e_time=None, e_lower_time=None, e_upper_time=None, u_time='MJD', survey=None, instrument='GPC', telescope='Pan-STARRS1', observatory=None, observer=None, reducer=None, airmass=None, host=None, includeshost=None, model=None, realization=None, countrate=None, e_countrate=None, e_lower_countrate=None, e_upper_countrate=None, magnitude=18.9552, e_magnitude=0.126212, e_lower_magnitude=None, e_upper_magnitude=None, zeropoint=None, band='z', bandset=None, system=None, upperlimit=None, upperlimitsigma=None, kcorrected=None, scorrected=None, mcorrected=None)]"
      ]
     },
     "execution_count": 11,
     "metadata": {},
     "output_type": "execute_result"
    }
   ],
   "execution_count": 11
  },
  {
   "metadata": {
    "ExecuteTime": {
     "end_time": "2025-03-23T12:58:14.794432Z",
     "start_time": "2025-03-23T12:58:14.786085Z"
    }
   },
   "cell_type": "code",
   "source": [
    "### Data cleaning ###\n",
    "\n",
    "from snanomaly.preprocessing.cleaning.validation_pipeline import ValidationPipeline\n",
    "from snanomaly.preprocessing.cleaning.checks.photometry import MinimumObservationsPerBand\n",
    "\n",
    "# Create a pipeline with checks\n",
    "pipeline = ValidationPipeline(\n",
    "    checks=[MinimumObservationsPerBand(3)],\n",
    "    fail_fast=True\n",
    ")\n",
    "\n",
    "# Validate a single candidate\n",
    "for sn in dataset.objects:\n",
    "    print(f\"### {sn.name} ###\")\n",
    "    results = pipeline.validate(sn)\n",
    "    for r in results:\n",
    "        if not r.is_valid:\n",
    "            print(f\"Check failed: [{r.check_name}] {r.message}\")\n",
    "\n",
    "# Filter a list of candidates\n",
    "# valid_candidates = pipeline.filter_valid(all_candidates)"
   ],
   "id": "6e2fef0ee6f74de4",
   "outputs": [
    {
     "name": "stdout",
     "output_type": "stream",
     "text": [
      "### CLJ0152-1357-cand3 ###\n",
      "Check failed: [MinimumObservationsPerBand] No photometry data available\n",
      "### AT2017hjx ###\n",
      "Check failed: [MinimumObservationsPerBand] Band [orange] has only 2 observations (minimum: 3)\n",
      "### 2MASSJ23244229-0829087 ###\n",
      "Check failed: [MinimumObservationsPerBand] No photometry data available\n",
      "### GRB 050422A ###\n",
      "Check failed: [MinimumObservationsPerBand] No photometry data available\n",
      "### A15 ###\n",
      "Check failed: [MinimumObservationsPerBand] No photometry data available\n",
      "### PS15atk ###\n",
      "Check failed: [MinimumObservationsPerBand] Band [None] has only 1 observations (minimum: 3)\n",
      "### OGLE-2012-SN-040 ###\n",
      "### iPTF15erz ###\n",
      "Check failed: [MinimumObservationsPerBand] No photometry data available\n",
      "### Kes 67 ###\n",
      "Check failed: [MinimumObservationsPerBand] No photometry data available\n",
      "### SDSS-II SN 17591 ###\n",
      "### COVET-090219E ###\n",
      "Check failed: [MinimumObservationsPerBand] Band [None] has only 1 observations (minimum: 3)\n",
      "### SN2005aw ###\n",
      "Check failed: [MinimumObservationsPerBand] Band [None] has only 1 observations (minimum: 3)\n",
      "### CRTS J021056.9+362733 ###\n",
      "Check failed: [MinimumObservationsPerBand] No photometry data available\n",
      "### 13Z3-D ###\n",
      "Check failed: [MinimumObservationsPerBand] No photometry data available\n",
      "### ESSENCEd029 ###\n",
      "Check failed: [MinimumObservationsPerBand] No photometry data available\n",
      "### W51 ###\n",
      "Check failed: [MinimumObservationsPerBand] No photometry data available\n",
      "### PTF10ooe ###\n",
      "Check failed: [MinimumObservationsPerBand] No photometry data available\n",
      "### CSS100317:102731+401548 ###\n",
      "Check failed: [MinimumObservationsPerBand] Band [None] has only 1 observations (minimum: 3)\n",
      "### J1888-G ###\n",
      "Check failed: [MinimumObservationsPerBand] No photometry data available\n",
      "### SSS120817:002822-305723 ###\n",
      "### mbr115.06.597 ###\n",
      "Check failed: [MinimumObservationsPerBand] No photometry data available\n",
      "### COS12Car ###\n",
      "Check failed: [MinimumObservationsPerBand] No photometry data available\n",
      "### LMCSNR J05293815-6700046 ###\n",
      "Check failed: [MinimumObservationsPerBand] No photometry data available\n",
      "### SNLS-03D4ev ###\n",
      "Check failed: [MinimumObservationsPerBand] No photometry data available\n",
      "### SN1954Z ###\n",
      "Check failed: [MinimumObservationsPerBand] Band [None] has only 1 observations (minimum: 3)\n",
      "### SN1994S ###\n",
      "### Gaia17aau ###\n",
      "### ASASSN-15fj ###\n",
      "Check failed: [MinimumObservationsPerBand] Band [None] has only 1 observations (minimum: 3)\n",
      "### CSS071109:231759+153303 ###\n",
      "Check failed: [MinimumObservationsPerBand] Band [None] has only 1 observations (minimum: 3)\n",
      "### B0528-6716 ###\n",
      "Check failed: [MinimumObservationsPerBand] No photometry data available\n",
      "### LSQ12ayr ###\n",
      "Check failed: [MinimumObservationsPerBand] No photometry data available\n",
      "### MLS141024:013148+065228 ###\n",
      "### AT2017hlv ###\n",
      "Check failed: [MinimumObservationsPerBand] Band [orange] has only 2 observations (minimum: 3)\n",
      "### SDSS-II SN 2350 ###\n",
      "### DES16X1few ###\n",
      "Check failed: [MinimumObservationsPerBand] Band [None] has only 1 observations (minimum: 3)\n",
      "### [HP99] 483 ###\n",
      "Check failed: [MinimumObservationsPerBand] No photometry data available\n",
      "### M101SNR J140258200+54183370 ###\n",
      "Check failed: [MinimumObservationsPerBand] No photometry data available\n",
      "### SMT16ojf ###\n",
      "Check failed: [MinimumObservationsPerBand] Band [None] has only 1 observations (minimum: 3)\n",
      "### AT2000gf ###\n",
      "Check failed: [MinimumObservationsPerBand] Band [None] has only 1 observations (minimum: 3)\n",
      "### NM811510c ###\n",
      "Check failed: [MinimumObservationsPerBand] No photometry data available\n",
      "### SNF20071115-003 ###\n",
      "Check failed: [MinimumObservationsPerBand] No photometry data available\n",
      "### 3C397 ###\n",
      "Check failed: [MinimumObservationsPerBand] No photometry data available\n",
      "### NN3129 ###\n",
      "Check failed: [MinimumObservationsPerBand] No photometry data available\n",
      "### ASASSN-14ar ###\n",
      "Check failed: [MinimumObservationsPerBand] Band [None] has only 1 observations (minimum: 3)\n",
      "### MASTER OT J153215.01+301933.2 ###\n",
      "Check failed: [MinimumObservationsPerBand] Band [None] has only 1 observations (minimum: 3)\n",
      "### LSQ12byu ###\n",
      "Check failed: [MinimumObservationsPerBand] Band [None] has only 1 observations (minimum: 3)\n",
      "### J141036 ###\n",
      "Check failed: [MinimumObservationsPerBand] Band [V] has only 1 observations (minimum: 3)\n",
      "### SMT J13545988-2820020 ###\n",
      "Check failed: [MinimumObservationsPerBand] Band [None] has only 1 observations (minimum: 3)\n",
      "### SN1921C ###\n",
      "### MASTER PGC2128586 ###\n",
      "Check failed: [MinimumObservationsPerBand] Band [None] has only 1 observations (minimum: 3)\n",
      "### PS1-10if ###\n",
      "Check failed: [MinimumObservationsPerBand] Band [g] has only 1 observations (minimum: 3)\n",
      "### KSN 2011d ###\n",
      "Check failed: [MinimumObservationsPerBand] No photometry data available\n",
      "### ATLAS17abx ###\n",
      "Check failed: [MinimumObservationsPerBand] Band [None] has only 1 observations (minimum: 3)\n",
      "### SN1989ad ###\n",
      "Check failed: [MinimumObservationsPerBand] Band [None] has only 1 observations (minimum: 3)\n",
      "### Swift J1112-82 ###\n",
      "### SMCSNR J00592742-7210102 ###\n",
      "Check failed: [MinimumObservationsPerBand] No photometry data available\n",
      "### Aki ###\n",
      "Check failed: [MinimumObservationsPerBand] Band [F110W] has only 1 observations (minimum: 3)\n",
      "### SVISS SN115 ###\n",
      "Check failed: [MinimumObservationsPerBand] No photometry data available\n",
      "### K0211-003 ###\n",
      "Check failed: [MinimumObservationsPerBand] Band [None] has only 1 observations (minimum: 3)\n",
      "### DES16X2crr-corrected ###\n",
      "Check failed: [MinimumObservationsPerBand] No photometry data available\n",
      "### [HFP2000] 414 ###\n",
      "Check failed: [MinimumObservationsPerBand] No photometry data available\n",
      "### SN2010iu ###\n",
      "Check failed: [MinimumObservationsPerBand] Band [None] has only 1 observations (minimum: 3)\n",
      "### SNhunt272 ###\n",
      "Check failed: [MinimumObservationsPerBand] Band [None] has only 1 observations (minimum: 3)\n",
      "### SN2017me ###\n",
      "Check failed: [MinimumObservationsPerBand] Band [orange] has only 2 observations (minimum: 3)\n",
      "### SM 2004-LMC-1102 ###\n",
      "Check failed: [MinimumObservationsPerBand] No photometry data available\n",
      "### Gaia16afm ###\n",
      "### TCP J12391447+0041295 ###\n",
      "Check failed: [MinimumObservationsPerBand] Band [None] has only 1 observations (minimum: 3)\n",
      "### SN1937B ###\n",
      "Check failed: [MinimumObservationsPerBand] Band [None] has only 1 observations (minimum: 3)\n",
      "### NGC4395SNR J122547200+33324530 ###\n",
      "Check failed: [MinimumObservationsPerBand] No photometry data available\n",
      "### M33SNR J013342910+30414950 ###\n",
      "Check failed: [MinimumObservationsPerBand] No photometry data available\n"
     ]
    }
   ],
   "execution_count": 2
  },
  {
   "metadata": {
    "ExecuteTime": {
     "end_time": "2025-03-21T14:33:05.260053Z",
     "start_time": "2025-03-21T14:31:58.784304Z"
    }
   },
   "cell_type": "code",
   "source": [
    "############################\n",
    "# Load the OSC2019 dataset #\n",
    "############################\n",
    "\n",
    "from snanomaly.dataset.osc2019 import OSC2019\n",
    "\n",
    "dataset = OSC2019()\n",
    "\n",
    "print(dataset)\n",
    "\n",
    "print(\"First object:\")\n",
    "print(dataset.objects[0])"
   ],
   "id": "ebcc4110f43d27e",
   "outputs": [
    {
     "name": "stdout",
     "output_type": "stream",
     "text": [
      "2025-03-21T16:31:58.909747+0200 | INFO | osc:_load_data:20 - Loading OSC dataset...\n"
     ]
    },
    {
     "name": "stderr",
     "output_type": "stream",
     "text": [
      "100%|██████████| 45161/45161 [01:06<00:00, 680.73it/s] "
     ]
    },
    {
     "name": "stdout",
     "output_type": "stream",
     "text": [
      "2025-03-21T16:33:05.256458+0200 | INFO | osc:_load_data:41 - 0 object(s) were omitted. Successfully loaded 45161/45161.\n",
      "##############################\n",
      "Dataset: OSC-2019\n",
      "Description: The `Open Supernova Catalog` with data up to 2019.\n",
      "Size: 45161 objects\n",
      "Path: /home/chongy/stuff/workspace/snanomaly/datasets/osc2019\n",
      "##############################\n",
      "First object:\n",
      "SNCandidate(name=PS15cez, alias=[PS15cez])\n"
     ]
    },
    {
     "name": "stderr",
     "output_type": "stream",
     "text": [
      "\n"
     ]
    }
   ],
   "execution_count": 1
  }
 ],
 "metadata": {
  "kernelspec": {
   "display_name": "Python 3",
   "language": "python",
   "name": "python3"
  },
  "language_info": {
   "codemirror_mode": {
    "name": "ipython",
    "version": 2
   },
   "file_extension": ".py",
   "mimetype": "text/x-python",
   "name": "python",
   "nbconvert_exporter": "python",
   "pygments_lexer": "ipython2",
   "version": "2.7.6"
  }
 },
 "nbformat": 4,
 "nbformat_minor": 5
}
