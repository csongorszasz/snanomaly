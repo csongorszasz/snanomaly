{
 "cells": [
  {
   "metadata": {
    "ExecuteTime": {
     "end_time": "2025-03-24T18:30:14.519057Z",
     "start_time": "2025-03-24T18:30:14.278763Z"
    }
   },
   "cell_type": "code",
   "source": [
    "################################\n",
    "# Load the OSC2019Mini dataset #\n",
    "################################\n",
    "\n",
    "from snanomaly.dataset.osc2019_mini import OSC2019Mini\n",
    "\n",
    "dataset = OSC2019Mini()\n",
    "\n",
    "print(dataset)\n",
    "\n",
    "print(\"First object:\")\n",
    "print(dataset.objects[0])"
   ],
   "id": "16cd8efcce2f3f64",
   "outputs": [
    {
     "name": "stdout",
     "output_type": "stream",
     "text": [
      "2025-03-24T20:30:14.374039+0200 | INFO | osc:_load_data:20 - Loading OSC dataset...\n"
     ]
    },
    {
     "name": "stderr",
     "output_type": "stream",
     "text": [
      "100%|██████████| 70/70 [00:00<00:00, 499.29it/s]"
     ]
    },
    {
     "name": "stdout",
     "output_type": "stream",
     "text": [
      "2025-03-24T20:30:14.517556+0200 | INFO | osc:_load_data:41 - 0 object(s) were omitted. Successfully loaded 70/70.\n",
      "##############################\n",
      "Dataset: OSC-2019 Mini\n",
      "Description: The `Open Supernova Catalog` with data up to 2019. Contains a small subset of the OSC-2019 dataset (<100 objects). Objects were selected from various catalogues to ensure diversity.\n",
      "Size: 70 objects\n",
      "Path: /home/chongy/stuff/workspace/snanomaly/datasets/osc2019_mini\n",
      "##############################\n",
      "First object:\n",
      "SNCandidate(name=CLJ0152-1357-cand3, alias=[CLJ0152-1357-cand3])\n"
     ]
    },
    {
     "name": "stderr",
     "output_type": "stream",
     "text": [
      "\n"
     ]
    }
   ],
   "execution_count": 1
  },
  {
   "metadata": {
    "ExecuteTime": {
     "end_time": "2025-03-24T18:30:14.525971Z",
     "start_time": "2025-03-24T18:30:14.523314Z"
    }
   },
   "cell_type": "code",
   "source": [
    "sn = dataset.objects[6]\n",
    "print(sn.name)\n",
    "print(sn.photometry.bands.I.matrix)"
   ],
   "id": "9b4ceefa27263bed",
   "outputs": [
    {
     "name": "stdout",
     "output_type": "stream",
     "text": [
      "OGLE-2012-SN-040\n",
      "[[56158.39595 56172.41151 56196.34946 56200.36677 56203.37285 56249.27481\n",
      "  56252.27906 56255.28175 56257.33621 56258.26274 56260.28709 56264.3178\n",
      "  56268.31772 56268.32061 56269.35287 56270.31001 56273.3339 56274.34622\n",
      "  56277.31137 56281.32927 56286.2635 56290.26933 56294.34061 56298.30326\n",
      "  56304.30145 56310.20458 56317.22357 56340.15879 56344.09701 56348.13875\n",
      "  56356.09616 56362.04993 56370.09995 56376.08263 56402.98856]\n",
      " [None None None None None None None None None None None None None None\n",
      "  None None None None None None None None None None None None None None\n",
      "  None None None None None None None]\n",
      " [3.022734480038649e-09 3.894036338797163e-09 4.257944535825958e-10\n",
      "  9.629417129715539e-09 8.550667128846806e-10 1.30016957803329e-08\n",
      "  6.717381285473814e-08 1.8348476077555372e-07 2.7516931328087876e-07\n",
      "  3.1768740706497627e-07 3.711931900441399e-07 4.17637992950973e-07\n",
      "  3.970086781121838e-07 3.97740669105027e-07 3.8194427084004564e-07\n",
      "  3.735940922588e-07 3.4419138826842873e-07 3.445085462865786e-07\n",
      "  3.0005440024430936e-07 2.054944041345299e-07 1.4348285182325875e-07\n",
      "  1.1251229929657658e-07 9.479818010107187e-08 8.076068613289749e-08\n",
      "  5.7279603098582806e-08 5.180837850719933e-08 3.0005440024430936e-08\n",
      "  2.463769076721767e-08 1.5317927158934174e-08 1.0715193052376048e-08\n",
      "  1.2044811285731759e-08 9.558725718846902e-09 8.912509381337441e-09\n",
      "  6.785783509504071e-10 3.7325015779571986e-09]\n",
      " [None None None None None None None None None None None None None None\n",
      "  None None None None None None None None None None None None None None\n",
      "  None None None None None None None]]\n"
     ]
    }
   ],
   "execution_count": 2
  },
  {
   "metadata": {
    "ExecuteTime": {
     "end_time": "2025-03-24T18:30:14.597496Z",
     "start_time": "2025-03-24T18:30:14.592627Z"
    }
   },
   "cell_type": "code",
   "source": [
    "### Data cleaning ###\n",
    "\n",
    "from snanomaly.preprocessing.cleaning.validation_pipeline import ValidationPipeline\n",
    "from snanomaly.preprocessing.cleaning.checks.photometry import MinimumObservationsPerBand\n",
    "\n",
    "# Create a pipeline with checks\n",
    "pipeline = ValidationPipeline(\n",
    "    checks=[MinimumObservationsPerBand(3)],\n",
    "    fail_fast=True\n",
    ")"
   ],
   "id": "6e2fef0ee6f74de4",
   "outputs": [],
   "execution_count": 3
  },
  {
   "metadata": {
    "ExecuteTime": {
     "end_time": "2025-03-24T18:30:14.653349Z",
     "start_time": "2025-03-24T18:30:14.647289Z"
    }
   },
   "cell_type": "code",
   "source": [
    "# Validate one by one\n",
    "for sn in dataset.objects:\n",
    "    results = pipeline.validate(sn)\n",
    "    error_msgs = []\n",
    "    for r in results:\n",
    "        if not r.is_valid:\n",
    "            error_msgs.append(f\"Check failed: [{r.check_name}] {r.message}\")\n",
    "    if error_msgs:\n",
    "        print(f\"### {sn.name} ###\")\n",
    "        print(\"\\n\".join(error_msgs))\n"
   ],
   "id": "efa213dd2d5d1755",
   "outputs": [
    {
     "name": "stdout",
     "output_type": "stream",
     "text": [
      "### CLJ0152-1357-cand3 ###\n",
      "Check failed: [MinimumObservationsPerBand] No photometry data available\n",
      "### 2MASSJ23244229-0829087 ###\n",
      "Check failed: [MinimumObservationsPerBand] No photometry data available\n",
      "### GRB 050422A ###\n",
      "Check failed: [MinimumObservationsPerBand] No photometry data available\n",
      "### A15 ###\n",
      "Check failed: [MinimumObservationsPerBand] No photometry data available\n",
      "### iPTF15erz ###\n",
      "Check failed: [MinimumObservationsPerBand] No photometry data available\n",
      "### Kes 67 ###\n",
      "Check failed: [MinimumObservationsPerBand] No photometry data available\n",
      "### CRTS J021056.9+362733 ###\n",
      "Check failed: [MinimumObservationsPerBand] No photometry data available\n",
      "### 13Z3-D ###\n",
      "Check failed: [MinimumObservationsPerBand] No photometry data available\n",
      "### ESSENCEd029 ###\n",
      "Check failed: [MinimumObservationsPerBand] No photometry data available\n",
      "### W51 ###\n",
      "Check failed: [MinimumObservationsPerBand] No photometry data available\n",
      "### PTF10ooe ###\n",
      "Check failed: [MinimumObservationsPerBand] No photometry data available\n",
      "### J1888-G ###\n",
      "Check failed: [MinimumObservationsPerBand] No photometry data available\n",
      "### mbr115.06.597 ###\n",
      "Check failed: [MinimumObservationsPerBand] No photometry data available\n",
      "### COS12Car ###\n",
      "Check failed: [MinimumObservationsPerBand] No photometry data available\n",
      "### LMCSNR J05293815-6700046 ###\n",
      "Check failed: [MinimumObservationsPerBand] No photometry data available\n",
      "### SNLS-03D4ev ###\n",
      "Check failed: [MinimumObservationsPerBand] No photometry data available\n",
      "### B0528-6716 ###\n",
      "Check failed: [MinimumObservationsPerBand] No photometry data available\n",
      "### LSQ12ayr ###\n",
      "Check failed: [MinimumObservationsPerBand] No photometry data available\n",
      "### [HP99] 483 ###\n",
      "Check failed: [MinimumObservationsPerBand] No photometry data available\n",
      "### M101SNR J140258200+54183370 ###\n",
      "Check failed: [MinimumObservationsPerBand] No photometry data available\n",
      "### NM811510c ###\n",
      "Check failed: [MinimumObservationsPerBand] No photometry data available\n",
      "### SNF20071115-003 ###\n",
      "Check failed: [MinimumObservationsPerBand] No photometry data available\n",
      "### 3C397 ###\n",
      "Check failed: [MinimumObservationsPerBand] No photometry data available\n",
      "### NN3129 ###\n",
      "Check failed: [MinimumObservationsPerBand] No photometry data available\n",
      "### PS1-10if ###\n",
      "Check failed: [MinimumObservationsPerBand] Band [g] has only 1 observation(s) (minimum: 3)\n",
      "### KSN 2011d ###\n",
      "Check failed: [MinimumObservationsPerBand] No photometry data available\n",
      "### SMCSNR J00592742-7210102 ###\n",
      "Check failed: [MinimumObservationsPerBand] No photometry data available\n",
      "### SVISS SN115 ###\n",
      "Check failed: [MinimumObservationsPerBand] No photometry data available\n",
      "### DES16X2crr-corrected ###\n",
      "Check failed: [MinimumObservationsPerBand] No photometry data available\n",
      "### [HFP2000] 414 ###\n",
      "Check failed: [MinimumObservationsPerBand] No photometry data available\n",
      "### SM 2004-LMC-1102 ###\n",
      "Check failed: [MinimumObservationsPerBand] No photometry data available\n",
      "### NGC4395SNR J122547200+33324530 ###\n",
      "Check failed: [MinimumObservationsPerBand] No photometry data available\n",
      "### M33SNR J013342910+30414950 ###\n",
      "Check failed: [MinimumObservationsPerBand] No photometry data available\n"
     ]
    }
   ],
   "execution_count": 4
  },
  {
   "metadata": {
    "ExecuteTime": {
     "end_time": "2025-03-24T18:30:14.774883Z",
     "start_time": "2025-03-24T18:30:14.771415Z"
    }
   },
   "cell_type": "code",
   "source": [
    "# Filter a list of candidates\n",
    "valid_candidates = pipeline.filter_valid(dataset.objects)\n",
    "print(f\"Number of valid candidates: {len(valid_candidates)} / {len(dataset.objects)}\")"
   ],
   "id": "838580ffd719bb0d",
   "outputs": [
    {
     "name": "stdout",
     "output_type": "stream",
     "text": [
      "Number of valid candidates: 37 / 70\n"
     ]
    }
   ],
   "execution_count": 5
  },
  {
   "metadata": {
    "ExecuteTime": {
     "end_time": "2025-03-24T18:30:36.061927Z",
     "start_time": "2025-03-24T18:30:29.047737Z"
    }
   },
   "cell_type": "code",
   "source": [
    "############################\n",
    "# Load the OSC2019 dataset #\n",
    "############################\n",
    "\n",
    "from snanomaly.dataset.osc2019 import OSC2019\n",
    "\n",
    "dataset = OSC2019()\n",
    "\n",
    "print(dataset)\n",
    "\n",
    "print(\"First object:\")\n",
    "print(dataset.objects[0])"
   ],
   "id": "ebcc4110f43d27e",
   "outputs": [
    {
     "name": "stdout",
     "output_type": "stream",
     "text": [
      "2025-03-24T20:30:29.050701+0200 | INFO | osc:_load_data:20 - Loading OSC dataset...\n"
     ]
    },
    {
     "name": "stderr",
     "output_type": "stream",
     "text": [
      "  9%|▉         | 4252/45161 [00:06<01:05, 625.78it/s]\n"
     ]
    },
    {
     "ename": "KeyboardInterrupt",
     "evalue": "",
     "output_type": "error",
     "traceback": [
      "\u001B[31m---------------------------------------------------------------------------\u001B[39m",
      "\u001B[31mKeyboardInterrupt\u001B[39m                         Traceback (most recent call last)",
      "\u001B[36mCell\u001B[39m\u001B[36m \u001B[39m\u001B[32mIn[6]\u001B[39m\u001B[32m, line 7\u001B[39m\n\u001B[32m      1\u001B[39m \u001B[38;5;66;03m############################\u001B[39;00m\n\u001B[32m      2\u001B[39m \u001B[38;5;66;03m# Load the OSC2019 dataset #\u001B[39;00m\n\u001B[32m      3\u001B[39m \u001B[38;5;66;03m############################\u001B[39;00m\n\u001B[32m      5\u001B[39m \u001B[38;5;28;01mfrom\u001B[39;00m\u001B[38;5;250m \u001B[39m\u001B[34;01msnanomaly\u001B[39;00m\u001B[34;01m.\u001B[39;00m\u001B[34;01mdataset\u001B[39;00m\u001B[34;01m.\u001B[39;00m\u001B[34;01mosc2019\u001B[39;00m\u001B[38;5;250m \u001B[39m\u001B[38;5;28;01mimport\u001B[39;00m OSC2019\n\u001B[32m----> \u001B[39m\u001B[32m7\u001B[39m dataset = \u001B[43mOSC2019\u001B[49m\u001B[43m(\u001B[49m\u001B[43m)\u001B[49m\n\u001B[32m      9\u001B[39m \u001B[38;5;28mprint\u001B[39m(dataset)\n\u001B[32m     11\u001B[39m \u001B[38;5;28mprint\u001B[39m(\u001B[33m\"\u001B[39m\u001B[33mFirst object:\u001B[39m\u001B[33m\"\u001B[39m)\n",
      "\u001B[36mFile \u001B[39m\u001B[32m<attrs generated methods snanomaly.dataset.osc2019.OSC2019>:32\u001B[39m, in \u001B[36m__init__\u001B[39m\u001B[34m(self, path)\u001B[39m\n\u001B[32m     30\u001B[39m \u001B[38;5;28mself\u001B[39m.size = attr_dict[\u001B[33m'\u001B[39m\u001B[33msize\u001B[39m\u001B[33m'\u001B[39m].default\n\u001B[32m     31\u001B[39m \u001B[38;5;28mself\u001B[39m.objects = __attr_factory_objects()\n\u001B[32m---> \u001B[39m\u001B[32m32\u001B[39m \u001B[38;5;28;43mself\u001B[39;49m\u001B[43m.\u001B[49m\u001B[43m__attrs_post_init__\u001B[49m\u001B[43m(\u001B[49m\u001B[43m)\u001B[49m\n",
      "\u001B[36mFile \u001B[39m\u001B[32m~/stuff/workspace/snanomaly/src/snanomaly/dataset/osc2019.py:18\u001B[39m, in \u001B[36mOSC2019.__attrs_post_init__\u001B[39m\u001B[34m(self)\u001B[39m\n\u001B[32m     16\u001B[39m \u001B[38;5;28mself\u001B[39m.description = \u001B[33m\"\u001B[39m\u001B[33mThe `Open Supernova Catalog` with data up to 2019.\u001B[39m\u001B[33m\"\u001B[39m\n\u001B[32m     17\u001B[39m \u001B[38;5;28mself\u001B[39m.size = \u001B[32m45161\u001B[39m\n\u001B[32m---> \u001B[39m\u001B[32m18\u001B[39m \u001B[38;5;28;43msuper\u001B[39;49m\u001B[43m(\u001B[49m\u001B[43m)\u001B[49m\u001B[43m.\u001B[49m\u001B[43m__attrs_post_init__\u001B[49m\u001B[43m(\u001B[49m\u001B[43m)\u001B[49m\n",
      "\u001B[36mFile \u001B[39m\u001B[32m~/stuff/workspace/snanomaly/src/snanomaly/dataset/dataset.py:24\u001B[39m, in \u001B[36mDataset.__attrs_post_init__\u001B[39m\u001B[34m(self)\u001B[39m\n\u001B[32m     23\u001B[39m \u001B[38;5;28;01mdef\u001B[39;00m\u001B[38;5;250m \u001B[39m\u001B[34m__attrs_post_init__\u001B[39m(\u001B[38;5;28mself\u001B[39m):\n\u001B[32m---> \u001B[39m\u001B[32m24\u001B[39m     \u001B[38;5;28;43mself\u001B[39;49m\u001B[43m.\u001B[49m\u001B[43m_load_data\u001B[49m\u001B[43m(\u001B[49m\u001B[43m)\u001B[49m\n",
      "\u001B[36mFile \u001B[39m\u001B[32m~/stuff/workspace/snanomaly/src/snanomaly/dataset/osc.py:33\u001B[39m, in \u001B[36mOSC._load_data\u001B[39m\u001B[34m(self)\u001B[39m\n\u001B[32m     31\u001B[39m     logger.warning(\u001B[33mf\u001B[39m\u001B[33m\"\u001B[39m\u001B[33mWarning: Invalid format for `\u001B[39m\u001B[38;5;132;01m{\u001B[39;00mfile.name\u001B[38;5;132;01m}\u001B[39;00m\u001B[33m`. Skipping.\u001B[39m\u001B[33m\"\u001B[39m)\n\u001B[32m     32\u001B[39m     \u001B[38;5;28;01mcontinue\u001B[39;00m\n\u001B[32m---> \u001B[39m\u001B[32m33\u001B[39m sn_candidate = \u001B[43mstructure\u001B[49m\u001B[43m(\u001B[49m\u001B[43mdata\u001B[49m\u001B[43m,\u001B[49m\u001B[43m \u001B[49m\u001B[43mSNCandidate\u001B[49m\u001B[43m)\u001B[49m\n\u001B[32m     34\u001B[39m \u001B[38;5;28mself\u001B[39m.objects.append(sn_candidate)\n\u001B[32m     35\u001B[39m cnt_success += \u001B[32m1\u001B[39m\n",
      "\u001B[36mFile \u001B[39m\u001B[32m~/stuff/workspace/py_venvs/snanomaly/lib/python3.12/site-packages/cattrs/converters.py:558\u001B[39m, in \u001B[36mBaseConverter.structure\u001B[39m\u001B[34m(self, obj, cl)\u001B[39m\n\u001B[32m    556\u001B[39m \u001B[38;5;28;01mdef\u001B[39;00m\u001B[38;5;250m \u001B[39m\u001B[34mstructure\u001B[39m(\u001B[38;5;28mself\u001B[39m, obj: UnstructuredValue, cl: \u001B[38;5;28mtype\u001B[39m[T]) -> T:\n\u001B[32m    557\u001B[39m \u001B[38;5;250m    \u001B[39m\u001B[33;03m\"\"\"Convert unstructured Python data structures to structured data.\"\"\"\u001B[39;00m\n\u001B[32m--> \u001B[39m\u001B[32m558\u001B[39m     \u001B[38;5;28;01mreturn\u001B[39;00m \u001B[38;5;28;43mself\u001B[39;49m\u001B[43m.\u001B[49m\u001B[43m_structure_func\u001B[49m\u001B[43m.\u001B[49m\u001B[43mdispatch\u001B[49m\u001B[43m(\u001B[49m\u001B[43mcl\u001B[49m\u001B[43m)\u001B[49m\u001B[43m(\u001B[49m\u001B[43mobj\u001B[49m\u001B[43m,\u001B[49m\u001B[43m \u001B[49m\u001B[43mcl\u001B[49m\u001B[43m)\u001B[49m\n",
      "\u001B[36mFile \u001B[39m\u001B[32m<cattrs generated structure snanomaly.models.sncandidate.sncandidate.SNCandidate>:183\u001B[39m, in \u001B[36mstructure_SNCandidate\u001B[39m\u001B[34m(o, _, __cl, __c_cve, __c_avn, __c_structure_schema, __c_type_schema, __c_structure_name, __c_type_name, __c_structure_sources, __c_type_sources, __c_structure_alias, __c_type_alias, __c_structure_distinctfrom, __c_type_distinctfrom, __c_structure_error, __c_type_error, __c_structure_ra, __c_type_ra, __c_structure_dec, __c_type_dec, __c_structure_discoverdate, __c_type_discoverdate, __c_structure_maxdate, __c_type_maxdate, __c_structure_maxabsmag, __c_type_maxabsmag, __c_structure_maxappmag, __c_type_maxappmag, __c_structure_maxband, __c_type_maxband, __c_structure_maxvisualabsmag, __c_type_maxvisualabsmag, __c_structure_maxvisualappmag, __c_type_maxvisualappmag, __c_structure_maxvisualband, __c_type_maxvisualband, __c_structure_maxvisualdate, __c_type_maxvisualdate, __c_structure_redshift, __c_type_redshift, __c_structure_lumdist, __c_type_lumdist, __c_structure_comovingdist, __c_type_comovingdist, __c_structure_velocity, __c_type_velocity, __c_structure_claimedtype, __c_type_claimedtype, __c_structure_discoverer, __c_type_discoverer, __c_structure_ebv, __c_type_ebv, __c_structure_host, __c_type_host, __c_structure_hostra, __c_type_hostra, __c_structure_hostdec, __c_type_hostdec, __c_structure_hostoffsetang, __c_type_hostoffsetang, __c_structure_hostoffsetdist, __c_type_hostoffsetdist, __c_structure_photometry, __c_type_photometry, __c_structure_spectra, __c_type_spectra)\u001B[39m\n\u001B[32m    181\u001B[39m if 'spectra' in o:\n\u001B[32m    182\u001B[39m   try:\n\u001B[32m--> \u001B[39m\u001B[32m183\u001B[39m     res['spectra'] = __c_structure_spectra(o['spectra'], __c_type_spectra)\n\u001B[32m    184\u001B[39m   except Exception as e:\n\u001B[32m    185\u001B[39m     e.__notes__ = getattr(e, '__notes__', []) + [__c_avn(\"Structuring class SNCandidate @ attribute spectra\", \"spectra\", __c_type_spectra)]\n",
      "\u001B[36mFile \u001B[39m\u001B[32m~/stuff/workspace/py_venvs/snanomaly/lib/python3.12/site-packages/cattrs/cols.py:133\u001B[39m, in \u001B[36mlist_structure_factory.<locals>.structure_list\u001B[39m\u001B[34m(obj, _, _handler, _elem_type)\u001B[39m\n\u001B[32m    131\u001B[39m \u001B[38;5;28;01mfor\u001B[39;00m e \u001B[38;5;129;01min\u001B[39;00m obj:\n\u001B[32m    132\u001B[39m     \u001B[38;5;28;01mtry\u001B[39;00m:\n\u001B[32m--> \u001B[39m\u001B[32m133\u001B[39m         res.append(\u001B[43mhandler\u001B[49m\u001B[43m(\u001B[49m\u001B[43me\u001B[49m\u001B[43m,\u001B[49m\u001B[43m \u001B[49m\u001B[43m_elem_type\u001B[49m\u001B[43m)\u001B[49m)\n\u001B[32m    134\u001B[39m     \u001B[38;5;28;01mexcept\u001B[39;00m \u001B[38;5;167;01mException\u001B[39;00m \u001B[38;5;28;01mas\u001B[39;00m e:\n\u001B[32m    135\u001B[39m         msg = IterableValidationNote(\n\u001B[32m    136\u001B[39m             \u001B[33mf\u001B[39m\u001B[33m\"\u001B[39m\u001B[33mStructuring \u001B[39m\u001B[38;5;132;01m{\u001B[39;00m\u001B[38;5;28mtype\u001B[39m\u001B[38;5;132;01m}\u001B[39;00m\u001B[33m @ index \u001B[39m\u001B[38;5;132;01m{\u001B[39;00mix\u001B[38;5;132;01m}\u001B[39;00m\u001B[33m\"\u001B[39m, ix, elem_type\n\u001B[32m    137\u001B[39m         )\n",
      "\u001B[36mFile \u001B[39m\u001B[32m<cattrs generated structure snanomaly.models.sncandidate.spectraobs.SpectraObs>:107\u001B[39m, in \u001B[36mstructure_SpectraObs\u001B[39m\u001B[34m(o, _, __cl, __c_cve, __c_avn, __c_structure_source, __c_type_source, __c_type_time, __c_structure_e_time, __c_type_e_time, __c_structure_e_lower_time, __c_type_e_lower_time, __c_structure_e_upper_time, __c_type_e_upper_time, __c_structure_u_time, __c_type_u_time, __c_structure_survey, __c_type_survey, __c_structure_instrument, __c_type_instrument, __c_structure_telescope, __c_type_telescope, __c_structure_observatory, __c_type_observatory, __c_structure_observer, __c_type_observer, __c_structure_reducer, __c_type_reducer, __c_structure_airmass, __c_type_airmass, __c_structure_host, __c_type_host, __c_structure_includeshost, __c_type_includeshost, __c_structure_model, __c_type_model, __c_structure_realization, __c_type_realization, __c_structure_data, __c_type_data, __c_structure_u_wavelengths, __c_type_u_wavelengths, __c_structure_u_fluxes, __c_type_u_fluxes, __c_structure_u_errors, __c_type_u_errors, __c_structure_snr, __c_type_snr, __c_structure_filename, __c_type_filename, __c_structure_deredshifted, __c_type_deredshifted, __c_structure_dereddened, __c_type_dereddened, __c_structure_vacuumwavelengths, __c_type_vacuumwavelengths, __c_structure_exclude, __c_type_exclude)\u001B[39m\n\u001B[32m    105\u001B[39m if 'data' in o:\n\u001B[32m    106\u001B[39m   try:\n\u001B[32m--> \u001B[39m\u001B[32m107\u001B[39m     res['data'] = __c_structure_data(o['data'], __c_type_data)\n\u001B[32m    108\u001B[39m   except Exception as e:\n\u001B[32m    109\u001B[39m     e.__notes__ = getattr(e, '__notes__', []) + [__c_avn(\"Structuring class SpectraObs @ attribute data\", \"data\", __c_type_data)]\n",
      "\u001B[36mFile \u001B[39m\u001B[32m~/stuff/workspace/snanomaly/src/snanomaly/utils/converters.py:20\u001B[39m, in \u001B[36mNumpyArrayConverter.structure\u001B[39m\u001B[34m(cls, data, _target_cls)\u001B[39m\n\u001B[32m     18\u001B[39m \u001B[38;5;28;01mif\u001B[39;00m data \u001B[38;5;129;01mis\u001B[39;00m \u001B[38;5;28;01mNone\u001B[39;00m:\n\u001B[32m     19\u001B[39m     \u001B[38;5;28;01mreturn\u001B[39;00m \u001B[38;5;28;01mNone\u001B[39;00m\n\u001B[32m---> \u001B[39m\u001B[32m20\u001B[39m \u001B[38;5;28;01mreturn\u001B[39;00m \u001B[43mnp\u001B[49m\u001B[43m.\u001B[49m\u001B[43marray\u001B[49m\u001B[43m(\u001B[49m\u001B[43mdata\u001B[49m\u001B[43m)\u001B[49m\n",
      "\u001B[31mKeyboardInterrupt\u001B[39m: "
     ]
    }
   ],
   "execution_count": 6
  }
 ],
 "metadata": {
  "kernelspec": {
   "display_name": "Python 3",
   "language": "python",
   "name": "python3"
  },
  "language_info": {
   "codemirror_mode": {
    "name": "ipython",
    "version": 2
   },
   "file_extension": ".py",
   "mimetype": "text/x-python",
   "name": "python",
   "nbconvert_exporter": "python",
   "pygments_lexer": "ipython2",
   "version": "2.7.6"
  }
 },
 "nbformat": 4,
 "nbformat_minor": 5
}
